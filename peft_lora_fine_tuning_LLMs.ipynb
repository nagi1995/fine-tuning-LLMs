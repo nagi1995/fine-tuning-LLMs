{
  "cells": [
    {
      "cell_type": "code",
      "execution_count": 1,
      "metadata": {
        "colab": {
          "base_uri": "https://localhost:8080/"
        },
        "id": "qoOhe7zNnBBN",
        "outputId": "ea921cc3-6e35-4f3f-9aca-0d99c4ec1034"
      },
      "outputs": [
        {
          "name": "stdout",
          "output_type": "stream",
          "text": [
            "Python 3.11.13\n"
          ]
        }
      ],
      "source": [
        "!python --version"
      ]
    },
    {
      "cell_type": "code",
      "execution_count": 2,
      "metadata": {
        "colab": {
          "base_uri": "https://localhost:8080/"
        },
        "id": "nHcG2x4_nv_L",
        "outputId": "3e9eb9e0-e7d7-4f09-9321-0d12c3270ec2"
      },
      "outputs": [
        {
          "name": "stdout",
          "output_type": "stream",
          "text": [
            "Collecting python-dotenv\n",
            "  Downloading python_dotenv-1.1.1-py3-none-any.whl.metadata (24 kB)\n",
            "Collecting evaluate\n",
            "  Downloading evaluate-0.4.5-py3-none-any.whl.metadata (9.5 kB)\n",
            "Collecting rouge_score\n",
            "  Downloading rouge_score-0.1.2.tar.gz (17 kB)\n",
            "  Preparing metadata (setup.py) ... \u001b[?25l\u001b[?25hdone\n",
            "Requirement already satisfied: datasets>=2.0.0 in /usr/local/lib/python3.11/dist-packages (from evaluate) (4.0.0)\n",
            "Requirement already satisfied: numpy>=1.17 in /usr/local/lib/python3.11/dist-packages (from evaluate) (2.0.2)\n",
            "Requirement already satisfied: dill in /usr/local/lib/python3.11/dist-packages (from evaluate) (0.3.8)\n",
            "Requirement already satisfied: pandas in /usr/local/lib/python3.11/dist-packages (from evaluate) (2.2.2)\n",
            "Requirement already satisfied: requests>=2.19.0 in /usr/local/lib/python3.11/dist-packages (from evaluate) (2.32.3)\n",
            "Requirement already satisfied: tqdm>=4.62.1 in /usr/local/lib/python3.11/dist-packages (from evaluate) (4.67.1)\n",
            "Requirement already satisfied: xxhash in /usr/local/lib/python3.11/dist-packages (from evaluate) (3.5.0)\n",
            "Requirement already satisfied: multiprocess in /usr/local/lib/python3.11/dist-packages (from evaluate) (0.70.16)\n",
            "Requirement already satisfied: fsspec>=2021.05.0 in /usr/local/lib/python3.11/dist-packages (from fsspec[http]>=2021.05.0->evaluate) (2025.3.0)\n",
            "Requirement already satisfied: huggingface-hub>=0.7.0 in /usr/local/lib/python3.11/dist-packages (from evaluate) (0.33.4)\n",
            "Requirement already satisfied: packaging in /usr/local/lib/python3.11/dist-packages (from evaluate) (25.0)\n",
            "Requirement already satisfied: absl-py in /usr/local/lib/python3.11/dist-packages (from rouge_score) (1.4.0)\n",
            "Requirement already satisfied: nltk in /usr/local/lib/python3.11/dist-packages (from rouge_score) (3.9.1)\n",
            "Requirement already satisfied: six>=1.14.0 in /usr/local/lib/python3.11/dist-packages (from rouge_score) (1.17.0)\n",
            "Requirement already satisfied: filelock in /usr/local/lib/python3.11/dist-packages (from datasets>=2.0.0->evaluate) (3.18.0)\n",
            "Requirement already satisfied: pyarrow>=15.0.0 in /usr/local/lib/python3.11/dist-packages (from datasets>=2.0.0->evaluate) (18.1.0)\n",
            "Requirement already satisfied: pyyaml>=5.1 in /usr/local/lib/python3.11/dist-packages (from datasets>=2.0.0->evaluate) (6.0.2)\n",
            "Requirement already satisfied: aiohttp!=4.0.0a0,!=4.0.0a1 in /usr/local/lib/python3.11/dist-packages (from fsspec[http]>=2021.05.0->evaluate) (3.12.14)\n",
            "Requirement already satisfied: typing-extensions>=3.7.4.3 in /usr/local/lib/python3.11/dist-packages (from huggingface-hub>=0.7.0->evaluate) (4.14.1)\n",
            "Requirement already satisfied: hf-xet<2.0.0,>=1.1.2 in /usr/local/lib/python3.11/dist-packages (from huggingface-hub>=0.7.0->evaluate) (1.1.5)\n",
            "Requirement already satisfied: charset-normalizer<4,>=2 in /usr/local/lib/python3.11/dist-packages (from requests>=2.19.0->evaluate) (3.4.2)\n",
            "Requirement already satisfied: idna<4,>=2.5 in /usr/local/lib/python3.11/dist-packages (from requests>=2.19.0->evaluate) (3.10)\n",
            "Requirement already satisfied: urllib3<3,>=1.21.1 in /usr/local/lib/python3.11/dist-packages (from requests>=2.19.0->evaluate) (2.5.0)\n",
            "Requirement already satisfied: certifi>=2017.4.17 in /usr/local/lib/python3.11/dist-packages (from requests>=2.19.0->evaluate) (2025.7.14)\n",
            "Requirement already satisfied: click in /usr/local/lib/python3.11/dist-packages (from nltk->rouge_score) (8.2.1)\n",
            "Requirement already satisfied: joblib in /usr/local/lib/python3.11/dist-packages (from nltk->rouge_score) (1.5.1)\n",
            "Requirement already satisfied: regex>=2021.8.3 in /usr/local/lib/python3.11/dist-packages (from nltk->rouge_score) (2024.11.6)\n",
            "Requirement already satisfied: python-dateutil>=2.8.2 in /usr/local/lib/python3.11/dist-packages (from pandas->evaluate) (2.9.0.post0)\n",
            "Requirement already satisfied: pytz>=2020.1 in /usr/local/lib/python3.11/dist-packages (from pandas->evaluate) (2025.2)\n",
            "Requirement already satisfied: tzdata>=2022.7 in /usr/local/lib/python3.11/dist-packages (from pandas->evaluate) (2025.2)\n",
            "Requirement already satisfied: aiohappyeyeballs>=2.5.0 in /usr/local/lib/python3.11/dist-packages (from aiohttp!=4.0.0a0,!=4.0.0a1->fsspec[http]>=2021.05.0->evaluate) (2.6.1)\n",
            "Requirement already satisfied: aiosignal>=1.4.0 in /usr/local/lib/python3.11/dist-packages (from aiohttp!=4.0.0a0,!=4.0.0a1->fsspec[http]>=2021.05.0->evaluate) (1.4.0)\n",
            "Requirement already satisfied: attrs>=17.3.0 in /usr/local/lib/python3.11/dist-packages (from aiohttp!=4.0.0a0,!=4.0.0a1->fsspec[http]>=2021.05.0->evaluate) (25.3.0)\n",
            "Requirement already satisfied: frozenlist>=1.1.1 in /usr/local/lib/python3.11/dist-packages (from aiohttp!=4.0.0a0,!=4.0.0a1->fsspec[http]>=2021.05.0->evaluate) (1.7.0)\n",
            "Requirement already satisfied: multidict<7.0,>=4.5 in /usr/local/lib/python3.11/dist-packages (from aiohttp!=4.0.0a0,!=4.0.0a1->fsspec[http]>=2021.05.0->evaluate) (6.6.3)\n",
            "Requirement already satisfied: propcache>=0.2.0 in /usr/local/lib/python3.11/dist-packages (from aiohttp!=4.0.0a0,!=4.0.0a1->fsspec[http]>=2021.05.0->evaluate) (0.3.2)\n",
            "Requirement already satisfied: yarl<2.0,>=1.17.0 in /usr/local/lib/python3.11/dist-packages (from aiohttp!=4.0.0a0,!=4.0.0a1->fsspec[http]>=2021.05.0->evaluate) (1.20.1)\n",
            "Downloading python_dotenv-1.1.1-py3-none-any.whl (20 kB)\n",
            "Downloading evaluate-0.4.5-py3-none-any.whl (84 kB)\n",
            "\u001b[2K   \u001b[90m━━━━━━━━━━━━━━━━━━━━━━━━━━━━━━━━━━━━━━━━\u001b[0m \u001b[32m84.1/84.1 kB\u001b[0m \u001b[31m7.9 MB/s\u001b[0m eta \u001b[36m0:00:00\u001b[0m\n",
            "\u001b[?25hBuilding wheels for collected packages: rouge_score\n",
            "  Building wheel for rouge_score (setup.py) ... \u001b[?25l\u001b[?25hdone\n",
            "  Created wheel for rouge_score: filename=rouge_score-0.1.2-py3-none-any.whl size=24934 sha256=e7946b2f3f2c6230efb8cab9cfa97a41f7a6ba5f705fcc0fb8f4f4a8fba40856\n",
            "  Stored in directory: /root/.cache/pip/wheels/1e/19/43/8a442dc83660ca25e163e1bd1f89919284ab0d0c1475475148\n",
            "Successfully built rouge_score\n",
            "Installing collected packages: python-dotenv, rouge_score, evaluate\n",
            "Successfully installed evaluate-0.4.5 python-dotenv-1.1.1 rouge_score-0.1.2\n",
            "Collecting datasets==2.17.0\n",
            "  Downloading datasets-2.17.0-py3-none-any.whl.metadata (20 kB)\n",
            "Requirement already satisfied: filelock in /usr/local/lib/python3.11/dist-packages (from datasets==2.17.0) (3.18.0)\n",
            "Requirement already satisfied: numpy>=1.17 in /usr/local/lib/python3.11/dist-packages (from datasets==2.17.0) (2.0.2)\n",
            "Requirement already satisfied: pyarrow>=12.0.0 in /usr/local/lib/python3.11/dist-packages (from datasets==2.17.0) (18.1.0)\n",
            "Collecting pyarrow-hotfix (from datasets==2.17.0)\n",
            "  Downloading pyarrow_hotfix-0.7-py3-none-any.whl.metadata (3.6 kB)\n",
            "Requirement already satisfied: dill<0.3.9,>=0.3.0 in /usr/local/lib/python3.11/dist-packages (from datasets==2.17.0) (0.3.8)\n",
            "Requirement already satisfied: pandas in /usr/local/lib/python3.11/dist-packages (from datasets==2.17.0) (2.2.2)\n",
            "Requirement already satisfied: requests>=2.19.0 in /usr/local/lib/python3.11/dist-packages (from datasets==2.17.0) (2.32.3)\n",
            "Requirement already satisfied: tqdm>=4.62.1 in /usr/local/lib/python3.11/dist-packages (from datasets==2.17.0) (4.67.1)\n",
            "Requirement already satisfied: xxhash in /usr/local/lib/python3.11/dist-packages (from datasets==2.17.0) (3.5.0)\n",
            "Requirement already satisfied: multiprocess in /usr/local/lib/python3.11/dist-packages (from datasets==2.17.0) (0.70.16)\n",
            "Collecting fsspec<=2023.10.0,>=2023.1.0 (from fsspec[http]<=2023.10.0,>=2023.1.0->datasets==2.17.0)\n",
            "  Downloading fsspec-2023.10.0-py3-none-any.whl.metadata (6.8 kB)\n",
            "Requirement already satisfied: aiohttp in /usr/local/lib/python3.11/dist-packages (from datasets==2.17.0) (3.12.14)\n",
            "Requirement already satisfied: huggingface-hub>=0.19.4 in /usr/local/lib/python3.11/dist-packages (from datasets==2.17.0) (0.33.4)\n",
            "Requirement already satisfied: packaging in /usr/local/lib/python3.11/dist-packages (from datasets==2.17.0) (25.0)\n",
            "Requirement already satisfied: pyyaml>=5.1 in /usr/local/lib/python3.11/dist-packages (from datasets==2.17.0) (6.0.2)\n",
            "Requirement already satisfied: aiohappyeyeballs>=2.5.0 in /usr/local/lib/python3.11/dist-packages (from aiohttp->datasets==2.17.0) (2.6.1)\n",
            "Requirement already satisfied: aiosignal>=1.4.0 in /usr/local/lib/python3.11/dist-packages (from aiohttp->datasets==2.17.0) (1.4.0)\n",
            "Requirement already satisfied: attrs>=17.3.0 in /usr/local/lib/python3.11/dist-packages (from aiohttp->datasets==2.17.0) (25.3.0)\n",
            "Requirement already satisfied: frozenlist>=1.1.1 in /usr/local/lib/python3.11/dist-packages (from aiohttp->datasets==2.17.0) (1.7.0)\n",
            "Requirement already satisfied: multidict<7.0,>=4.5 in /usr/local/lib/python3.11/dist-packages (from aiohttp->datasets==2.17.0) (6.6.3)\n",
            "Requirement already satisfied: propcache>=0.2.0 in /usr/local/lib/python3.11/dist-packages (from aiohttp->datasets==2.17.0) (0.3.2)\n",
            "Requirement already satisfied: yarl<2.0,>=1.17.0 in /usr/local/lib/python3.11/dist-packages (from aiohttp->datasets==2.17.0) (1.20.1)\n",
            "Requirement already satisfied: typing-extensions>=3.7.4.3 in /usr/local/lib/python3.11/dist-packages (from huggingface-hub>=0.19.4->datasets==2.17.0) (4.14.1)\n",
            "Requirement already satisfied: hf-xet<2.0.0,>=1.1.2 in /usr/local/lib/python3.11/dist-packages (from huggingface-hub>=0.19.4->datasets==2.17.0) (1.1.5)\n",
            "Requirement already satisfied: charset-normalizer<4,>=2 in /usr/local/lib/python3.11/dist-packages (from requests>=2.19.0->datasets==2.17.0) (3.4.2)\n",
            "Requirement already satisfied: idna<4,>=2.5 in /usr/local/lib/python3.11/dist-packages (from requests>=2.19.0->datasets==2.17.0) (3.10)\n",
            "Requirement already satisfied: urllib3<3,>=1.21.1 in /usr/local/lib/python3.11/dist-packages (from requests>=2.19.0->datasets==2.17.0) (2.5.0)\n",
            "Requirement already satisfied: certifi>=2017.4.17 in /usr/local/lib/python3.11/dist-packages (from requests>=2.19.0->datasets==2.17.0) (2025.7.14)\n",
            "Requirement already satisfied: python-dateutil>=2.8.2 in /usr/local/lib/python3.11/dist-packages (from pandas->datasets==2.17.0) (2.9.0.post0)\n",
            "Requirement already satisfied: pytz>=2020.1 in /usr/local/lib/python3.11/dist-packages (from pandas->datasets==2.17.0) (2025.2)\n",
            "Requirement already satisfied: tzdata>=2022.7 in /usr/local/lib/python3.11/dist-packages (from pandas->datasets==2.17.0) (2025.2)\n",
            "Requirement already satisfied: six>=1.5 in /usr/local/lib/python3.11/dist-packages (from python-dateutil>=2.8.2->pandas->datasets==2.17.0) (1.17.0)\n",
            "Downloading datasets-2.17.0-py3-none-any.whl (536 kB)\n",
            "\u001b[2K   \u001b[90m━━━━━━━━━━━━━━━━━━━━━━━━━━━━━━━━━━━━━━━━\u001b[0m \u001b[32m536.6/536.6 kB\u001b[0m \u001b[31m17.0 MB/s\u001b[0m eta \u001b[36m0:00:00\u001b[0m\n",
            "\u001b[?25hDownloading fsspec-2023.10.0-py3-none-any.whl (166 kB)\n",
            "\u001b[2K   \u001b[90m━━━━━━━━━━━━━━━━━━━━━━━━━━━━━━━━━━━━━━━━\u001b[0m \u001b[32m166.4/166.4 kB\u001b[0m \u001b[31m13.9 MB/s\u001b[0m eta \u001b[36m0:00:00\u001b[0m\n",
            "\u001b[?25hDownloading pyarrow_hotfix-0.7-py3-none-any.whl (7.9 kB)\n",
            "Installing collected packages: pyarrow-hotfix, fsspec, datasets\n",
            "  Attempting uninstall: fsspec\n",
            "    Found existing installation: fsspec 2025.3.0\n",
            "    Uninstalling fsspec-2025.3.0:\n",
            "      Successfully uninstalled fsspec-2025.3.0\n",
            "  Attempting uninstall: datasets\n",
            "    Found existing installation: datasets 4.0.0\n",
            "    Uninstalling datasets-4.0.0:\n",
            "      Successfully uninstalled datasets-4.0.0\n",
            "\u001b[31mERROR: pip's dependency resolver does not currently take into account all the packages that are installed. This behaviour is the source of the following dependency conflicts.\n",
            "gcsfs 2025.3.0 requires fsspec==2025.3.0, but you have fsspec 2023.10.0 which is incompatible.\n",
            "torch 2.6.0+cu124 requires nvidia-cublas-cu12==12.4.5.8; platform_system == \"Linux\" and platform_machine == \"x86_64\", but you have nvidia-cublas-cu12 12.5.3.2 which is incompatible.\n",
            "torch 2.6.0+cu124 requires nvidia-cuda-cupti-cu12==12.4.127; platform_system == \"Linux\" and platform_machine == \"x86_64\", but you have nvidia-cuda-cupti-cu12 12.5.82 which is incompatible.\n",
            "torch 2.6.0+cu124 requires nvidia-cuda-nvrtc-cu12==12.4.127; platform_system == \"Linux\" and platform_machine == \"x86_64\", but you have nvidia-cuda-nvrtc-cu12 12.5.82 which is incompatible.\n",
            "torch 2.6.0+cu124 requires nvidia-cuda-runtime-cu12==12.4.127; platform_system == \"Linux\" and platform_machine == \"x86_64\", but you have nvidia-cuda-runtime-cu12 12.5.82 which is incompatible.\n",
            "torch 2.6.0+cu124 requires nvidia-cudnn-cu12==9.1.0.70; platform_system == \"Linux\" and platform_machine == \"x86_64\", but you have nvidia-cudnn-cu12 9.3.0.75 which is incompatible.\n",
            "torch 2.6.0+cu124 requires nvidia-cufft-cu12==11.2.1.3; platform_system == \"Linux\" and platform_machine == \"x86_64\", but you have nvidia-cufft-cu12 11.2.3.61 which is incompatible.\n",
            "torch 2.6.0+cu124 requires nvidia-curand-cu12==10.3.5.147; platform_system == \"Linux\" and platform_machine == \"x86_64\", but you have nvidia-curand-cu12 10.3.6.82 which is incompatible.\n",
            "torch 2.6.0+cu124 requires nvidia-cusolver-cu12==11.6.1.9; platform_system == \"Linux\" and platform_machine == \"x86_64\", but you have nvidia-cusolver-cu12 11.6.3.83 which is incompatible.\n",
            "torch 2.6.0+cu124 requires nvidia-cusparse-cu12==12.3.1.170; platform_system == \"Linux\" and platform_machine == \"x86_64\", but you have nvidia-cusparse-cu12 12.5.1.3 which is incompatible.\n",
            "torch 2.6.0+cu124 requires nvidia-nvjitlink-cu12==12.4.127; platform_system == \"Linux\" and platform_machine == \"x86_64\", but you have nvidia-nvjitlink-cu12 12.5.82 which is incompatible.\u001b[0m\u001b[31m\n",
            "\u001b[0mSuccessfully installed datasets-2.17.0 fsspec-2023.10.0 pyarrow-hotfix-0.7\n"
          ]
        }
      ],
      "source": [
        "!pip install python-dotenv evaluate rouge_score\n",
        "!pip install -U datasets==2.17.0\n",
        "# !pip install transformers==4.41.2 peft==0.11.1 accelerate==0.30.1"
      ]
    },
    {
      "cell_type": "code",
      "execution_count": 3,
      "metadata": {
        "colab": {
          "base_uri": "https://localhost:8080/"
        },
        "id": "JriLhAVzXW86",
        "outputId": "9608c1a7-206b-4262-98b1-53b7bdcfe538"
      },
      "outputs": [
        {
          "name": "stdout",
          "output_type": "stream",
          "text": [
            "Package                               Version\n",
            "------------------------------------- -------------------\n",
            "absl-py                               1.4.0\n",
            "accelerate                            1.9.0\n",
            "aiofiles                              24.1.0\n",
            "aiohappyeyeballs                      2.6.1\n",
            "aiohttp                               3.12.14\n",
            "aiosignal                             1.4.0\n",
            "alabaster                             1.0.0\n",
            "albucore                              0.0.24\n",
            "albumentations                        2.0.8\n",
            "ale-py                                0.11.2\n",
            "altair                                5.5.0\n",
            "annotated-types                       0.7.0\n",
            "antlr4-python3-runtime                4.9.3\n",
            "anyio                                 4.9.0\n",
            "argon2-cffi                           25.1.0\n",
            "argon2-cffi-bindings                  21.2.0\n",
            "array_record                          0.7.2\n",
            "arviz                                 0.22.0\n",
            "astropy                               7.1.0\n",
            "astropy-iers-data                     0.2025.7.21.0.41.39\n",
            "astunparse                            1.6.3\n",
            "atpublic                              5.1\n",
            "attrs                                 25.3.0\n",
            "audioread                             3.0.1\n",
            "autograd                              1.8.0\n",
            "babel                                 2.17.0\n",
            "backcall                              0.2.0\n",
            "backports.tarfile                     1.2.0\n",
            "beautifulsoup4                        4.13.4\n",
            "betterproto                           2.0.0b6\n",
            "bigframes                             2.11.0\n",
            "bigquery-magics                       0.10.1\n",
            "bleach                                6.2.0\n",
            "blinker                               1.9.0\n",
            "blis                                  1.3.0\n",
            "blobfile                              3.0.0\n",
            "blosc2                                3.6.1\n",
            "bokeh                                 3.7.3\n",
            "Bottleneck                            1.4.2\n",
            "bqplot                                0.12.45\n",
            "branca                                0.8.1\n",
            "Brotli                                1.1.0\n",
            "build                                 1.2.2.post1\n",
            "CacheControl                          0.14.3\n",
            "cachetools                            5.5.2\n",
            "catalogue                             2.0.10\n",
            "certifi                               2025.7.14\n",
            "cffi                                  1.17.1\n",
            "chardet                               5.2.0\n",
            "charset-normalizer                    3.4.2\n",
            "chex                                  0.1.90\n",
            "clarabel                              0.11.1\n",
            "click                                 8.2.1\n",
            "cloudpathlib                          0.21.1\n",
            "cloudpickle                           3.1.1\n",
            "cmake                                 3.31.6\n",
            "cmdstanpy                             1.2.5\n",
            "colorcet                              3.1.0\n",
            "colorlover                            0.3.0\n",
            "colour                                0.1.5\n",
            "community                             1.0.0b1\n",
            "confection                            0.1.5\n",
            "cons                                  0.4.7\n",
            "contourpy                             1.3.2\n",
            "cramjam                               2.10.0\n",
            "cryptography                          43.0.3\n",
            "cuda-python                           12.6.2.post1\n",
            "cudf-cu12                             25.6.0\n",
            "cudf-polars-cu12                      25.6.0\n",
            "cufflinks                             0.17.3\n",
            "cuml-cu12                             25.6.0\n",
            "cupy-cuda12x                          13.3.0\n",
            "curl_cffi                             0.12.0\n",
            "cuvs-cu12                             25.6.1\n",
            "cvxopt                                1.3.2\n",
            "cvxpy                                 1.6.7\n",
            "cycler                                0.12.1\n",
            "cyipopt                               1.5.0\n",
            "cymem                                 2.0.11\n",
            "Cython                                3.0.12\n",
            "dask                                  2025.5.0\n",
            "dask-cuda                             25.6.0\n",
            "dask-cudf-cu12                        25.6.0\n",
            "dataproc-spark-connect                0.8.3\n",
            "datasets                              2.17.0\n",
            "db-dtypes                             1.4.3\n",
            "dbus-python                           1.2.18\n",
            "debugpy                               1.8.15\n",
            "decorator                             4.4.2\n",
            "defusedxml                            0.7.1\n",
            "diffusers                             0.34.0\n",
            "dill                                  0.3.8\n",
            "distributed                           2025.5.0\n",
            "distributed-ucxx-cu12                 0.44.0\n",
            "distro                                1.9.0\n",
            "dlib                                  19.24.6\n",
            "dm-tree                               0.1.9\n",
            "docstring_parser                      0.17.0\n",
            "docutils                              0.21.2\n",
            "dopamine_rl                           4.1.2\n",
            "duckdb                                1.3.2\n",
            "earthengine-api                       1.5.24\n",
            "easydict                              1.13\n",
            "editdistance                          0.8.1\n",
            "eerepr                                0.1.2\n",
            "einops                                0.8.1\n",
            "en_core_web_sm                        3.8.0\n",
            "entrypoints                           0.4\n",
            "et_xmlfile                            2.0.0\n",
            "etils                                 1.13.0\n",
            "etuples                               0.3.10\n",
            "evaluate                              0.4.5\n",
            "Farama-Notifications                  0.0.4\n",
            "fastai                                2.7.19\n",
            "fastapi                               0.116.1\n",
            "fastcore                              1.7.29\n",
            "fastdownload                          0.0.7\n",
            "fastjsonschema                        2.21.1\n",
            "fastprogress                          1.0.3\n",
            "fastrlock                             0.8.3\n",
            "ffmpy                                 0.6.1\n",
            "filelock                              3.18.0\n",
            "firebase-admin                        6.9.0\n",
            "Flask                                 3.1.1\n",
            "flatbuffers                           25.2.10\n",
            "flax                                  0.10.6\n",
            "folium                                0.20.0\n",
            "fonttools                             4.59.0\n",
            "frozendict                            2.4.6\n",
            "frozenlist                            1.7.0\n",
            "fsspec                                2023.10.0\n",
            "future                                1.0.0\n",
            "gast                                  0.6.0\n",
            "gcsfs                                 2025.3.0\n",
            "GDAL                                  3.8.4\n",
            "gdown                                 5.2.0\n",
            "geemap                                0.35.3\n",
            "geocoder                              1.38.1\n",
            "geographiclib                         2.0\n",
            "geopandas                             1.1.1\n",
            "geopy                                 2.4.1\n",
            "gin-config                            0.5.0\n",
            "gitdb                                 4.0.12\n",
            "GitPython                             3.1.44\n",
            "glob2                                 0.7\n",
            "google                                2.0.3\n",
            "google-ai-generativelanguage          0.6.15\n",
            "google-api-core                       2.25.1\n",
            "google-api-python-client              2.177.0\n",
            "google-auth                           2.38.0\n",
            "google-auth-httplib2                  0.2.0\n",
            "google-auth-oauthlib                  1.2.2\n",
            "google-cloud-aiplatform               1.105.0\n",
            "google-cloud-bigquery                 3.35.0\n",
            "google-cloud-bigquery-connection      1.18.3\n",
            "google-cloud-bigquery-storage         2.32.0\n",
            "google-cloud-core                     2.4.3\n",
            "google-cloud-dataproc                 5.21.0\n",
            "google-cloud-datastore                2.21.0\n",
            "google-cloud-firestore                2.21.0\n",
            "google-cloud-functions                1.20.4\n",
            "google-cloud-iam                      2.19.1\n",
            "google-cloud-language                 2.17.2\n",
            "google-cloud-resource-manager         1.14.2\n",
            "google-cloud-spanner                  3.55.0\n",
            "google-cloud-storage                  2.19.0\n",
            "google-cloud-translate                3.21.1\n",
            "google-colab                          1.0.0\n",
            "google-crc32c                         1.7.1\n",
            "google-genai                          1.27.0\n",
            "google-generativeai                   0.8.5\n",
            "google-pasta                          0.2.0\n",
            "google-resumable-media                2.7.2\n",
            "googleapis-common-protos              1.70.0\n",
            "googledrivedownloader                 1.1.0\n",
            "gradio                                5.38.1\n",
            "gradio_client                         1.11.0\n",
            "graphviz                              0.21\n",
            "greenlet                              3.2.3\n",
            "groovy                                0.1.2\n",
            "grpc-google-iam-v1                    0.14.2\n",
            "grpc-interceptor                      0.15.4\n",
            "grpcio                                1.73.1\n",
            "grpcio-status                         1.71.2\n",
            "grpclib                               0.4.8\n",
            "gspread                               6.2.1\n",
            "gspread-dataframe                     4.0.0\n",
            "gym                                   0.25.2\n",
            "gym-notices                           0.0.8\n",
            "gymnasium                             1.2.0\n",
            "h11                                   0.16.0\n",
            "h2                                    4.2.0\n",
            "h5netcdf                              1.6.3\n",
            "h5py                                  3.14.0\n",
            "hdbscan                               0.8.40\n",
            "hf_transfer                           0.1.9\n",
            "hf-xet                                1.1.5\n",
            "highspy                               1.11.0\n",
            "holidays                              0.77\n",
            "holoviews                             1.21.0\n",
            "hpack                                 4.1.0\n",
            "html5lib                              1.1\n",
            "httpcore                              1.0.9\n",
            "httpimport                            1.4.1\n",
            "httplib2                              0.22.0\n",
            "httpx                                 0.28.1\n",
            "huggingface-hub                       0.33.4\n",
            "humanize                              4.12.3\n",
            "hyperframe                            6.1.0\n",
            "hyperopt                              0.2.7\n",
            "ibis-framework                        9.5.0\n",
            "idna                                  3.10\n",
            "imageio                               2.37.0\n",
            "imageio-ffmpeg                        0.6.0\n",
            "imagesize                             1.4.1\n",
            "imbalanced-learn                      0.13.0\n",
            "immutabledict                         4.2.1\n",
            "importlib_metadata                    8.7.0\n",
            "importlib_resources                   6.5.2\n",
            "imutils                               0.5.4\n",
            "inflect                               7.5.0\n",
            "iniconfig                             2.1.0\n",
            "intel-cmplr-lib-ur                    2025.2.0\n",
            "intel-openmp                          2025.2.0\n",
            "ipyevents                             2.0.2\n",
            "ipyfilechooser                        0.6.0\n",
            "ipykernel                             6.17.1\n",
            "ipyleaflet                            0.20.0\n",
            "ipyparallel                           8.8.0\n",
            "ipython                               7.34.0\n",
            "ipython-genutils                      0.2.0\n",
            "ipython-sql                           0.5.0\n",
            "ipytree                               0.2.2\n",
            "ipywidgets                            7.7.1\n",
            "itsdangerous                          2.2.0\n",
            "jaraco.classes                        3.4.0\n",
            "jaraco.context                        6.0.1\n",
            "jaraco.functools                      4.2.1\n",
            "jax                                   0.5.2\n",
            "jax-cuda12-pjrt                       0.5.1\n",
            "jax-cuda12-plugin                     0.5.1\n",
            "jaxlib                                0.5.1\n",
            "jeepney                               0.9.0\n",
            "jieba                                 0.42.1\n",
            "Jinja2                                3.1.6\n",
            "jiter                                 0.10.0\n",
            "joblib                                1.5.1\n",
            "jsonpatch                             1.33\n",
            "jsonpickle                            4.1.1\n",
            "jsonpointer                           3.0.0\n",
            "jsonschema                            4.25.0\n",
            "jsonschema-specifications             2025.4.1\n",
            "jupyter-client                        6.1.12\n",
            "jupyter-console                       6.1.0\n",
            "jupyter_core                          5.8.1\n",
            "jupyter_kernel_gateway                2.5.2\n",
            "jupyter-leaflet                       0.20.0\n",
            "jupyter-server                        1.16.0\n",
            "jupyterlab_pygments                   0.3.0\n",
            "jupyterlab_widgets                    3.0.15\n",
            "jupytext                              1.17.2\n",
            "kaggle                                1.7.4.5\n",
            "kagglehub                             0.3.12\n",
            "keras                                 3.8.0\n",
            "keras-hub                             0.18.1\n",
            "keras-nlp                             0.18.1\n",
            "keyring                               25.6.0\n",
            "keyrings.google-artifactregistry-auth 1.1.2\n",
            "kiwisolver                            1.4.8\n",
            "langchain                             0.3.26\n",
            "langchain-core                        0.3.71\n",
            "langchain-text-splitters              0.3.8\n",
            "langcodes                             3.5.0\n",
            "langsmith                             0.4.8\n",
            "language_data                         1.3.0\n",
            "launchpadlib                          1.10.16\n",
            "lazr.restfulclient                    0.14.4\n",
            "lazr.uri                              1.0.6\n",
            "lazy_loader                           0.4\n",
            "libclang                              18.1.1\n",
            "libcudf-cu12                          25.6.0\n",
            "libcugraph-cu12                       25.6.0\n",
            "libcuml-cu12                          25.6.0\n",
            "libcuvs-cu12                          25.6.1\n",
            "libkvikio-cu12                        25.6.0\n",
            "libpysal                              4.13.0\n",
            "libraft-cu12                          25.6.0\n",
            "librmm-cu12                           25.6.0\n",
            "librosa                               0.11.0\n",
            "libucx-cu12                           1.18.1\n",
            "libucxx-cu12                          0.44.0\n",
            "lightgbm                              4.6.0\n",
            "linkify-it-py                         2.0.3\n",
            "llvmlite                              0.43.0\n",
            "locket                                1.0.0\n",
            "logical-unification                   0.4.6\n",
            "lxml                                  5.4.0\n",
            "Mako                                  1.1.3\n",
            "marisa-trie                           1.2.1\n",
            "Markdown                              3.8.2\n",
            "markdown-it-py                        3.0.0\n",
            "MarkupSafe                            3.0.2\n",
            "matplotlib                            3.10.0\n",
            "matplotlib-inline                     0.1.7\n",
            "matplotlib-venn                       1.1.2\n",
            "mdit-py-plugins                       0.4.2\n",
            "mdurl                                 0.1.2\n",
            "miniKanren                            1.0.5\n",
            "missingno                             0.5.2\n",
            "mistune                               3.1.3\n",
            "mizani                                0.13.5\n",
            "mkl                                   2025.2.0\n",
            "ml-dtypes                             0.4.1\n",
            "mlxtend                               0.23.4\n",
            "more-itertools                        10.7.0\n",
            "moviepy                               1.0.3\n",
            "mpmath                                1.3.0\n",
            "msgpack                               1.1.1\n",
            "multidict                             6.6.3\n",
            "multipledispatch                      1.0.0\n",
            "multiprocess                          0.70.16\n",
            "multitasking                          0.0.12\n",
            "murmurhash                            1.0.13\n",
            "music21                               9.3.0\n",
            "namex                                 0.1.0\n",
            "narwhals                              1.48.0\n",
            "natsort                               8.4.0\n",
            "nbclassic                             1.3.1\n",
            "nbclient                              0.10.2\n",
            "nbconvert                             7.16.6\n",
            "nbformat                              5.10.4\n",
            "ndindex                               1.10.0\n",
            "nest-asyncio                          1.6.0\n",
            "networkx                              3.5\n",
            "nibabel                               5.3.2\n",
            "nltk                                  3.9.1\n",
            "notebook                              6.5.7\n",
            "notebook_shim                         0.2.4\n",
            "numba                                 0.60.0\n",
            "numba-cuda                            0.11.0\n",
            "numexpr                               2.11.0\n",
            "numpy                                 2.0.2\n",
            "nvidia-cublas-cu12                    12.5.3.2\n",
            "nvidia-cuda-cupti-cu12                12.5.82\n",
            "nvidia-cuda-nvcc-cu12                 12.5.82\n",
            "nvidia-cuda-nvrtc-cu12                12.5.82\n",
            "nvidia-cuda-runtime-cu12              12.5.82\n",
            "nvidia-cudnn-cu12                     9.3.0.75\n",
            "nvidia-cufft-cu12                     11.2.3.61\n",
            "nvidia-curand-cu12                    10.3.6.82\n",
            "nvidia-cusolver-cu12                  11.6.3.83\n",
            "nvidia-cusparse-cu12                  12.5.1.3\n",
            "nvidia-cusparselt-cu12                0.6.2\n",
            "nvidia-ml-py                          12.575.51\n",
            "nvidia-nccl-cu12                      2.21.5\n",
            "nvidia-nvjitlink-cu12                 12.5.82\n",
            "nvidia-nvtx-cu12                      12.4.127\n",
            "nvtx                                  0.2.12\n",
            "nx-cugraph-cu12                       25.6.0\n",
            "oauth2client                          4.1.3\n",
            "oauthlib                              3.3.1\n",
            "omegaconf                             2.3.0\n",
            "openai                                1.97.1\n",
            "opencv-contrib-python                 4.12.0.88\n",
            "opencv-python                         4.12.0.88\n",
            "opencv-python-headless                4.12.0.88\n",
            "openpyxl                              3.1.5\n",
            "opt_einsum                            3.4.0\n",
            "optax                                 0.2.5\n",
            "optree                                0.16.0\n",
            "orbax-checkpoint                      0.11.19\n",
            "orjson                                3.11.0\n",
            "osqp                                  1.0.4\n",
            "packaging                             25.0\n",
            "pandas                                2.2.2\n",
            "pandas-datareader                     0.10.0\n",
            "pandas-gbq                            0.29.2\n",
            "pandas-stubs                          2.2.2.240909\n",
            "pandocfilters                         1.5.1\n",
            "panel                                 1.7.5\n",
            "param                                 2.2.1\n",
            "parso                                 0.8.4\n",
            "parsy                                 2.1\n",
            "partd                                 1.4.2\n",
            "patsy                                 1.0.1\n",
            "peewee                                3.18.2\n",
            "peft                                  0.16.0\n",
            "pexpect                               4.9.0\n",
            "pickleshare                           0.7.5\n",
            "pillow                                11.3.0\n",
            "pip                                   24.1.2\n",
            "platformdirs                          4.3.8\n",
            "plotly                                5.24.1\n",
            "plotnine                              0.14.5\n",
            "pluggy                                1.6.0\n",
            "ply                                   3.11\n",
            "polars                                1.25.0\n",
            "pooch                                 1.8.2\n",
            "portpicker                            1.5.2\n",
            "preshed                               3.0.10\n",
            "prettytable                           3.16.0\n",
            "proglog                               0.1.12\n",
            "progressbar2                          4.5.0\n",
            "prometheus_client                     0.22.1\n",
            "promise                               2.3\n",
            "prompt_toolkit                        3.0.51\n",
            "propcache                             0.3.2\n",
            "prophet                               1.1.7\n",
            "proto-plus                            1.26.1\n",
            "protobuf                              5.29.5\n",
            "psutil                                5.9.5\n",
            "psycopg2                              2.9.10\n",
            "ptyprocess                            0.7.0\n",
            "py-cpuinfo                            9.0.0\n",
            "py4j                                  0.10.9.7\n",
            "pyarrow                               18.1.0\n",
            "pyarrow-hotfix                        0.7\n",
            "pyasn1                                0.6.1\n",
            "pyasn1_modules                        0.4.2\n",
            "pycairo                               1.28.0\n",
            "pycocotools                           2.0.10\n",
            "pycparser                             2.22\n",
            "pycryptodomex                         3.23.0\n",
            "pydantic                              2.11.7\n",
            "pydantic_core                         2.33.2\n",
            "pydata-google-auth                    1.9.1\n",
            "pydot                                 3.0.4\n",
            "pydotplus                             2.0.2\n",
            "PyDrive                               1.3.1\n",
            "PyDrive2                              1.21.3\n",
            "pydub                                 0.25.1\n",
            "pyerfa                                2.0.1.5\n",
            "pygame                                2.6.1\n",
            "pygit2                                1.18.0\n",
            "Pygments                              2.19.2\n",
            "PyGObject                             3.42.0\n",
            "PyJWT                                 2.10.1\n",
            "pylibcudf-cu12                        25.6.0\n",
            "pylibcugraph-cu12                     25.6.0\n",
            "pylibraft-cu12                        25.6.0\n",
            "pymc                                  5.25.0\n",
            "pynndescent                           0.5.13\n",
            "pynvjitlink-cu12                      0.7.0\n",
            "pynvml                                12.0.0\n",
            "pyogrio                               0.11.0\n",
            "pyomo                                 6.9.2\n",
            "PyOpenGL                              3.1.9\n",
            "pyOpenSSL                             24.2.1\n",
            "pyparsing                             3.2.3\n",
            "pyperclip                             1.9.0\n",
            "pyproj                                3.7.1\n",
            "pyproject_hooks                       1.2.0\n",
            "pyshp                                 2.3.1\n",
            "PySocks                               1.7.1\n",
            "pyspark                               3.5.1\n",
            "pytensor                              2.31.7\n",
            "pytest                                8.4.1\n",
            "python-apt                            0.0.0\n",
            "python-box                            7.3.2\n",
            "python-dateutil                       2.9.0.post0\n",
            "python-dotenv                         1.1.1\n",
            "python-louvain                        0.16\n",
            "python-multipart                      0.0.20\n",
            "python-slugify                        8.0.4\n",
            "python-snappy                         0.7.3\n",
            "python-utils                          3.9.1\n",
            "pytz                                  2025.2\n",
            "pyviz_comms                           3.0.6\n",
            "PyWavelets                            1.8.0\n",
            "PyYAML                                6.0.2\n",
            "pyzmq                                 24.0.1\n",
            "raft-dask-cu12                        25.6.0\n",
            "rapids-dask-dependency                25.6.0\n",
            "rapids-logger                         0.1.1\n",
            "ratelim                               0.1.6\n",
            "referencing                           0.36.2\n",
            "regex                                 2024.11.6\n",
            "requests                              2.32.3\n",
            "requests-oauthlib                     2.0.0\n",
            "requests-toolbelt                     1.0.0\n",
            "requirements-parser                   0.9.0\n",
            "rich                                  13.9.4\n",
            "rmm-cu12                              25.6.0\n",
            "roman-numerals-py                     3.1.0\n",
            "rouge_score                           0.1.2\n",
            "rpds-py                               0.26.0\n",
            "rpy2                                  3.5.17\n",
            "rsa                                   4.9.1\n",
            "ruff                                  0.12.4\n",
            "safehttpx                             0.1.6\n",
            "safetensors                           0.5.3\n",
            "scikit-image                          0.25.2\n",
            "scikit-learn                          1.6.1\n",
            "scipy                                 1.16.0\n",
            "scooby                                0.10.1\n",
            "scs                                   3.2.7.post2\n",
            "seaborn                               0.13.2\n",
            "SecretStorage                         3.3.3\n",
            "semantic-version                      2.10.0\n",
            "Send2Trash                            1.8.3\n",
            "sentence-transformers                 4.1.0\n",
            "sentencepiece                         0.2.0\n",
            "sentry-sdk                            2.33.2\n",
            "setuptools                            75.2.0\n",
            "shap                                  0.48.0\n",
            "shapely                               2.1.1\n",
            "shellingham                           1.5.4\n",
            "simple-parsing                        0.1.7\n",
            "simplejson                            3.20.1\n",
            "simsimd                               6.5.0\n",
            "six                                   1.17.0\n",
            "sklearn-compat                        0.1.3\n",
            "sklearn-pandas                        2.2.0\n",
            "slicer                                0.0.8\n",
            "smart_open                            7.3.0.post1\n",
            "smmap                                 5.0.2\n",
            "sniffio                               1.3.1\n",
            "snowballstemmer                       3.0.1\n",
            "sortedcontainers                      2.4.0\n",
            "soundfile                             0.13.1\n",
            "soupsieve                             2.7\n",
            "soxr                                  0.5.0.post1\n",
            "spacy                                 3.8.7\n",
            "spacy-legacy                          3.0.12\n",
            "spacy-loggers                         1.0.5\n",
            "spanner-graph-notebook                1.1.7\n",
            "Sphinx                                8.2.3\n",
            "sphinxcontrib-applehelp               2.0.0\n",
            "sphinxcontrib-devhelp                 2.0.0\n",
            "sphinxcontrib-htmlhelp                2.1.0\n",
            "sphinxcontrib-jsmath                  1.0.1\n",
            "sphinxcontrib-qthelp                  2.0.0\n",
            "sphinxcontrib-serializinghtml         2.0.0\n",
            "SQLAlchemy                            2.0.41\n",
            "sqlglot                               25.20.2\n",
            "sqlparse                              0.5.3\n",
            "srsly                                 2.5.1\n",
            "stanio                                0.5.1\n",
            "starlette                             0.47.2\n",
            "statsmodels                           0.14.5\n",
            "stringzilla                           3.12.5\n",
            "stumpy                                1.13.0\n",
            "sympy                                 1.13.1\n",
            "tables                                3.10.2\n",
            "tabulate                              0.9.0\n",
            "tbb                                   2022.2.0\n",
            "tblib                                 3.1.0\n",
            "tcmlib                                1.4.0\n",
            "tenacity                              8.5.0\n",
            "tensorboard                           2.18.0\n",
            "tensorboard-data-server               0.7.2\n",
            "tensorflow                            2.18.0\n",
            "tensorflow-datasets                   4.9.9\n",
            "tensorflow_decision_forests           1.11.0\n",
            "tensorflow-hub                        0.16.1\n",
            "tensorflow-io-gcs-filesystem          0.37.1\n",
            "tensorflow-metadata                   1.17.2\n",
            "tensorflow-probability                0.25.0\n",
            "tensorflow-text                       2.18.1\n",
            "tensorstore                           0.1.74\n",
            "termcolor                             3.1.0\n",
            "terminado                             0.18.1\n",
            "text-unidecode                        1.3\n",
            "textblob                              0.19.0\n",
            "tf_keras                              2.18.0\n",
            "tf-slim                               1.1.0\n",
            "thinc                                 8.3.6\n",
            "threadpoolctl                         3.6.0\n",
            "tifffile                              2025.6.11\n",
            "tiktoken                              0.9.0\n",
            "timm                                  1.0.18\n",
            "tinycss2                              1.4.0\n",
            "tokenizers                            0.21.2\n",
            "toml                                  0.10.2\n",
            "tomlkit                               0.13.3\n",
            "toolz                                 0.12.1\n",
            "torch                                 2.6.0+cu124\n",
            "torchao                               0.10.0\n",
            "torchaudio                            2.6.0+cu124\n",
            "torchdata                             0.11.0\n",
            "torchsummary                          1.5.1\n",
            "torchtune                             0.6.1\n",
            "torchvision                           0.21.0+cu124\n",
            "tornado                               6.4.2\n",
            "tqdm                                  4.67.1\n",
            "traitlets                             5.7.1\n",
            "traittypes                            0.2.1\n",
            "transformers                          4.53.3\n",
            "treelite                              4.4.1\n",
            "treescope                             0.1.9\n",
            "triton                                3.2.0\n",
            "tsfresh                               0.21.0\n",
            "tweepy                                4.16.0\n",
            "typeguard                             4.4.4\n",
            "typer                                 0.16.0\n",
            "types-pytz                            2025.2.0.20250516\n",
            "types-setuptools                      80.9.0.20250529\n",
            "typing_extensions                     4.14.1\n",
            "typing-inspection                     0.4.1\n",
            "tzdata                                2025.2\n",
            "tzlocal                               5.3.1\n",
            "uc-micro-py                           1.0.3\n",
            "ucx-py-cu12                           0.44.0\n",
            "ucxx-cu12                             0.44.0\n",
            "umap-learn                            0.5.9.post2\n",
            "umf                                   0.11.0\n",
            "uritemplate                           4.2.0\n",
            "urllib3                               2.5.0\n",
            "uvicorn                               0.35.0\n",
            "vega-datasets                         0.9.0\n",
            "wadllib                               1.3.6\n",
            "wandb                                 0.21.0\n",
            "wasabi                                1.1.3\n",
            "wcwidth                               0.2.13\n",
            "weasel                                0.4.1\n",
            "webcolors                             24.11.1\n",
            "webencodings                          0.5.1\n",
            "websocket-client                      1.8.0\n",
            "websockets                            15.0.1\n",
            "Werkzeug                              3.1.3\n",
            "wheel                                 0.45.1\n",
            "widgetsnbextension                    3.6.10\n",
            "wordcloud                             1.9.4\n",
            "wrapt                                 1.17.2\n",
            "wurlitzer                             3.1.1\n",
            "xarray                                2025.7.1\n",
            "xarray-einstats                       0.9.1\n",
            "xgboost                               3.0.2\n",
            "xlrd                                  2.0.2\n",
            "xxhash                                3.5.0\n",
            "xyzservices                           2025.4.0\n",
            "yarl                                  1.20.1\n",
            "ydf                                   0.13.0\n",
            "yellowbrick                           1.5\n",
            "yfinance                              0.2.65\n",
            "zict                                  3.0.0\n",
            "zipp                                  3.23.0\n",
            "zstandard                             0.23.0\n"
          ]
        }
      ],
      "source": [
        "!pip list"
      ]
    },
    {
      "cell_type": "code",
      "execution_count": 4,
      "metadata": {
        "colab": {
          "base_uri": "https://localhost:8080/"
        },
        "id": "xsQrvLUanL6a",
        "outputId": "1270d444-499e-4dc2-943d-4852c40e905e"
      },
      "outputs": [
        {
          "name": "stdout",
          "output_type": "stream",
          "text": [
            "Mounted at /content/drive\n"
          ]
        }
      ],
      "source": [
        "from google.colab import drive\n",
        "drive.mount('/content/drive')"
      ]
    },
    {
      "cell_type": "code",
      "execution_count": 5,
      "metadata": {
        "id": "GS60HSwVoKs_"
      },
      "outputs": [],
      "source": [
        "from datasets import load_dataset\n",
        "from transformers import (\n",
        "    GenerationConfig,\n",
        "    AutoTokenizer,\n",
        "    AutoModelForSeq2SeqLM,\n",
        "    DataCollatorForSeq2Seq,\n",
        "    EarlyStoppingCallback,\n",
        "    Seq2SeqTrainingArguments,\n",
        "    Seq2SeqTrainer,\n",
        "    TrainingArguments,\n",
        "    Trainer,\n",
        ")\n",
        "from peft import get_peft_model, LoraConfig, TaskType, PeftModel, PeftConfig\n",
        "import evaluate\n",
        "import torch\n",
        "import os\n",
        "from dotenv import load_dotenv\n",
        "from tqdm import tqdm\n",
        "import json"
      ]
    },
    {
      "cell_type": "code",
      "execution_count": 6,
      "metadata": {
        "colab": {
          "base_uri": "https://localhost:8080/"
        },
        "id": "oZjraeE5oZMx",
        "outputId": "5223515d-90c7-4b80-9ea3-35ac3fce973e"
      },
      "outputs": [
        {
          "data": {
            "text/plain": [
              "['.env', 'outputs', 'logs', 'models']"
            ]
          },
          "execution_count": 6,
          "metadata": {},
          "output_type": "execute_result"
        }
      ],
      "source": [
        "os.listdir(\"/content/drive/MyDrive/python_projects/fine-tuning-LLMs\")"
      ]
    },
    {
      "cell_type": "code",
      "execution_count": 7,
      "metadata": {
        "colab": {
          "base_uri": "https://localhost:8080/"
        },
        "id": "-9po-26cYGru",
        "outputId": "59ad6cf7-6f60-447a-a1cd-226384681caf"
      },
      "outputs": [
        {
          "data": {
            "text/plain": [
              "True"
            ]
          },
          "execution_count": 7,
          "metadata": {},
          "output_type": "execute_result"
        }
      ],
      "source": [
        "env_path = \"/content/drive/MyDrive/python_projects/fine-tuning-LLMs/.env\"\n",
        "\n",
        "# Load environment variables\n",
        "load_dotenv(env_path)"
      ]
    },
    {
      "cell_type": "code",
      "execution_count": 8,
      "metadata": {
        "colab": {
          "base_uri": "https://localhost:8080/",
          "height": 365,
          "referenced_widgets": [
            "aaf31c78122b4bda8c46810475c49c9b",
            "eba6ad5b589742da85c5928427811557",
            "9fb644789564424583c8316915bad9ad",
            "99d5cdff87c040ba8d635091deb8d3e9",
            "5bf1551ff767432a95502ed58b59592c",
            "8db7e334627445e1b054f5cdc85b0985",
            "2e3c1249a78d420f985617f99f59e71b",
            "5da2e54ce34542a28cd925384349ce3e",
            "2720267bf37b4d528b95cfc31e0e5052",
            "2caeae7bb3c84ba781ab1bb9bbc337b3",
            "975787ece75b41d986e7b612613ce5d6",
            "82547df2613b4359838163d33c107104",
            "c25fb965518f4d43a37fe87773995419",
            "b45dff27aef74c5b861de79ee5b32171",
            "34303cdfc0444329a719deb1ab2fc90d",
            "583f0bcaf66e435eb8a5dd42101e0fa6",
            "3846671b45e84eaab0afa53bbe1fd1ca",
            "a406e7a8dfb14ed4bb0724c09a799c3a",
            "ab8db00bb51b4753907b054910fdb1b9",
            "3a38f2f0545d476c8edd1629f07b9954",
            "2d6291e8854044ba9eefa9df715ba01a",
            "9aa3a23fbce54e27b0fd1a3b1f43b134",
            "16a78e4d3c3b4ff391385ae68c2e259d",
            "76e763e5a37a4bbeb9a598bd02be6fd1",
            "6e624731fd9e4b37920c888899912d8a",
            "c66f19128b8c4a3caa0d0754242d4c35",
            "6581675ae9d44657b4f821897aa82ae0",
            "98562c0b5c28467d8714727399197a83",
            "3e452d2052c747e3bbd7a40fd15f4a20",
            "5e53a738f14a4d2ca14fe2f9f9f91e8f",
            "493119f496a949668d209c118690befc",
            "a92c9ad03e014ff284b1a3500c6564ae",
            "8efb7ebccfd041d1ac5fcf115789b918",
            "74be203fc73047f4be90a656879f5920",
            "965de7374272403cafbcf4c85ccaa6e6",
            "bff90a480d644efd8a9a330589813cc8",
            "89754b9eb6cb47248b77c5e2fbfa19d2",
            "fa07b14abe644b5ea92b5922a1550172",
            "74bb5a20e32e4e72bda9e67baa98895b",
            "b2dc20dba268412ea3455ad0298f09af",
            "7ccaae08f46f4c47bc1370f685dc802a",
            "68b5712a2e2a4212b14bc4564688170c",
            "66c9d72e5655422c85b808db3404fcde",
            "e78c17b0c0614fc0812b46a13380ab74",
            "77c3b1ea77f34236b3164d51cb667f5b",
            "8643e83fa13546eeaa470e6b00ded3e2",
            "10d607d809d0400cb9d6efc6bccbf72c",
            "5638870ae2ca4a5aacf45a84378d41c9",
            "3043279229ab407eb60a28f9c5ec6553",
            "387fc8b4b8bb4890afd0c8eb6dfc588d",
            "3efac96ea7794baca091b64fd41c7a9d",
            "8e9b63572baf44ceb21c96aa62d918c8",
            "9fed0489c72945fd960f6e5466886b80",
            "e5f18c9aa0804540924a4194a849a59f",
            "53639d39270c41e6827f19ee9aef4c5b",
            "63d50769e9de40638eb3f52900872ef2",
            "14c92450c0f94870ad59c2de4abd1d20",
            "10cda811f7d54700ae3f4c42e3a200c7",
            "c1068e14a4b943c3be880de5115e0d1d",
            "f466e5a36ea74864a266bebfab3ea5d7",
            "6ad886d2f6154114acbbd092ca5a4e69",
            "546ff17fc739462d9b761d5d6728412d",
            "d566f80510684bdea34a6592f10edae6",
            "e151cec84e3b4649addf38827d1df090",
            "f8d7b1ca951044aeb51c2c91e230572a",
            "c06e10c6699340588bdd07c2e6220006",
            "2b633e464bf14985bd4a542b1c09b400",
            "d8dc1f8dca62429798c2e82edac8b360",
            "e38a9bb69af14bc9a93948597647547e",
            "d1f28e49bd504cffb08cb6d44c76950d",
            "d8eb558c6c2948198b1e75d79a5f66af",
            "0cffcaac9e5242b18ab70a0aeefe1786",
            "92ea06293e0d498795e5a572777b2061",
            "f4a69599163244d29cb834b6f26198d1",
            "9a8effaf2025402b955f0820dda876b2",
            "4e2af94eb11648b18a3ceed0019e674c",
            "7172cc4319f94386b0e20880b7c3c186"
          ]
        },
        "id": "g2PH45p4ne6p",
        "outputId": "c5831a36-8bd9-4086-c13a-7faad319c9dd"
      },
      "outputs": [
        {
          "name": "stderr",
          "output_type": "stream",
          "text": [
            "/usr/local/lib/python3.11/dist-packages/huggingface_hub/utils/_auth.py:94: UserWarning: \n",
            "The secret `HF_TOKEN` does not exist in your Colab secrets.\n",
            "To authenticate with the Hugging Face Hub, create a token in your settings tab (https://huggingface.co/settings/tokens), set it as secret in your Google Colab and restart your session.\n",
            "You will be able to reuse this secret in all of your notebooks.\n",
            "Please note that authentication is recommended but still optional to access public models or datasets.\n",
            "  warnings.warn(\n"
          ]
        },
        {
          "data": {
            "application/vnd.jupyter.widget-view+json": {
              "model_id": "aaf31c78122b4bda8c46810475c49c9b",
              "version_major": 2,
              "version_minor": 0
            },
            "text/plain": [
              "tokenizer_config.json: 0.00B [00:00, ?B/s]"
            ]
          },
          "metadata": {},
          "output_type": "display_data"
        },
        {
          "data": {
            "application/vnd.jupyter.widget-view+json": {
              "model_id": "82547df2613b4359838163d33c107104",
              "version_major": 2,
              "version_minor": 0
            },
            "text/plain": [
              "spiece.model:   0%|          | 0.00/792k [00:00<?, ?B/s]"
            ]
          },
          "metadata": {},
          "output_type": "display_data"
        },
        {
          "data": {
            "application/vnd.jupyter.widget-view+json": {
              "model_id": "16a78e4d3c3b4ff391385ae68c2e259d",
              "version_major": 2,
              "version_minor": 0
            },
            "text/plain": [
              "tokenizer.json: 0.00B [00:00, ?B/s]"
            ]
          },
          "metadata": {},
          "output_type": "display_data"
        },
        {
          "data": {
            "application/vnd.jupyter.widget-view+json": {
              "model_id": "74be203fc73047f4be90a656879f5920",
              "version_major": 2,
              "version_minor": 0
            },
            "text/plain": [
              "special_tokens_map.json: 0.00B [00:00, ?B/s]"
            ]
          },
          "metadata": {},
          "output_type": "display_data"
        },
        {
          "data": {
            "application/vnd.jupyter.widget-view+json": {
              "model_id": "77c3b1ea77f34236b3164d51cb667f5b",
              "version_major": 2,
              "version_minor": 0
            },
            "text/plain": [
              "config.json: 0.00B [00:00, ?B/s]"
            ]
          },
          "metadata": {},
          "output_type": "display_data"
        },
        {
          "data": {
            "application/vnd.jupyter.widget-view+json": {
              "model_id": "63d50769e9de40638eb3f52900872ef2",
              "version_major": 2,
              "version_minor": 0
            },
            "text/plain": [
              "model.safetensors:   0%|          | 0.00/990M [00:00<?, ?B/s]"
            ]
          },
          "metadata": {},
          "output_type": "display_data"
        },
        {
          "data": {
            "application/vnd.jupyter.widget-view+json": {
              "model_id": "2b633e464bf14985bd4a542b1c09b400",
              "version_major": 2,
              "version_minor": 0
            },
            "text/plain": [
              "generation_config.json:   0%|          | 0.00/147 [00:00<?, ?B/s]"
            ]
          },
          "metadata": {},
          "output_type": "display_data"
        }
      ],
      "source": [
        "model_name = \"google/flan-t5-base\"\n",
        "\n",
        "tokenizer = AutoTokenizer.from_pretrained(model_name, use_fast=True)\n",
        "model = AutoModelForSeq2SeqLM.from_pretrained(model_name)"
      ]
    },
    {
      "cell_type": "code",
      "execution_count": 9,
      "metadata": {
        "id": "VNDPI2Ad1M_k"
      },
      "outputs": [],
      "source": [
        "# Handle padding token\n",
        "if tokenizer.pad_token is None:\n",
        "    tokenizer.pad_token = tokenizer.eos_token"
      ]
    },
    {
      "cell_type": "code",
      "execution_count": 10,
      "metadata": {
        "colab": {
          "base_uri": "https://localhost:8080/",
          "height": 365,
          "referenced_widgets": [
            "9d7283136d0445a29228c2bfc87db5d7",
            "8cb19bb5da374b0589256b5afecb68e4",
            "4a04d2e13f7c4d46873644697501b599",
            "f4cd5a9963224406b80f008dfd65e339",
            "cb7eb84e79eb400783bf566b08de15fc",
            "a64d08c969794880aa26303f000417ec",
            "ec21a0a46cd14325990a891ae350ce79",
            "0b49c2f833654fb099ae4c3aeaeccde1",
            "90577941fddb41dcbccc955c87ff4cc5",
            "9df9344736ad45a1a0c2d031e67ed30e",
            "997280cd739147d88d48c7aab2bc5de6",
            "782b5a9345184288b240309fbc3dc1fb",
            "1acdc368ec7246d1956d0f9ccc9a2fb2",
            "3ff2c6c4f32642638068ebd12fcf9393",
            "b8b1758a2c88470aa75a2eb7a64c35fa",
            "49328d217d8a4d8ca901a3e76b9adc1e",
            "a35a96fa576449cd9ca1fdcc2ed43234",
            "d7a54615a65349249c53ccbb32604f32",
            "94868d8b70f645778c8b1d2ccdac2a67",
            "ca59785f7cd64961ac6f6c7e19d911a1",
            "7be1782ad18f4a1587ebecb7884b84cb",
            "eb666024f2ce4182b3df759add109c11",
            "ab522ae4837543eeb6965092a6751cd4",
            "82ef48b950aa4e51ac10683e9831313e",
            "510fb31bc3124a56b5f2076140b7621e",
            "b6335cebf46e4cfe9b6c4add414b4f96",
            "bd8122182ea143e4987dc9a3ef4702c7",
            "3a0756ea469845da94aff35cc2612659",
            "3b04678cce2245f2b074e9dc9f8f945b",
            "d94171b85ebc4b3f9a2b0571fa4ba188",
            "b85ba29127194a2187b65ac77db2e8fc",
            "20fc33ba0a134f4982f3d13f28dccbe3",
            "092435596b3e4cbe96796e9b0878636f",
            "c0cbfb9f3a194a9286d3a8292be2e20a",
            "86bcfb6adbe14db3810493141566a10a",
            "da12bcf6419845aeb712bfb0efd4f075",
            "58a573f838a143409145e7d325dbf2c6",
            "6f76b129e5fa4680bb2c45a1fdea453f",
            "59ec8b2f181e4511b573021429f2cba0",
            "2b40e9dad3bf42a8bcff2c557990a28e",
            "95d9c448c412436f953a3f78df7bedd9",
            "e62436548a3741d0ac304ae0e128a98e",
            "09f54da0700f4875a06d7d82a4ac3c89",
            "850e169f1e6840879975ee902c6b9584",
            "2cb9eb369933465ab3d1678a63fe35e4",
            "318b7a4f75c54e30a6e176581d7ad1be",
            "6a195a03042945dcb1deaec84762af27",
            "61036ec45c664e26a651495671c5594b",
            "1c449130339143cf94315e16bb3eb837",
            "cc8dbc7c404d4b91b9615b2ab96a2d6f",
            "de76c9e37428415d89d0835f812a5131",
            "93c119ec58da442f9fe66e3d27c7e438",
            "09b2dee8e9e44d4cb492cae20c3dceb5",
            "e8f9b34fb0734a23beffaf7e95fc2478",
            "15c0086096e34747a9276b3c5fee469d",
            "532d9fad8a2d4716a30b3bbcb79f51e9",
            "da20b868064342409c7defb2ec306ff7",
            "cf175d44f3d54e80ab32f1948abe9fc0",
            "49d97c452d6c476982bd8d67b7c7ff60",
            "664f07f33a4743f882c72c04e7fb9250",
            "8c45f87f38e040e38a91669d7fada347",
            "49ae60145dae40c1a26ea8c64ee0932d",
            "c7873d10c80e4674908448d77a5ceb02",
            "9c4b712ef7bf414aabc54582556d4778",
            "1f4f9b023ced4b3597f9a8aee8722c53",
            "3ea6906199174699b26eebf6da0ef9fb",
            "a8f84e81c1854de29e2f6a3705f2957b",
            "5090f9d3d62d415eb7743bf6361780df",
            "464bfb67a3094a9ea23aea5e20579500",
            "6d1f1ff875bc49e0a4ea5044f1d5d905",
            "abd36356bd4e453da153783a7e8b821e",
            "47142c97d8da4d888df92c8e975b2ee6",
            "ec7398c235bb444f87cb5a0db56eb81b",
            "08a9d0f49b9c4a60b1e53ae2b35e8455",
            "41692ca2ffb94aaa912408eeaabaa779",
            "bc0968a0612d4cca99c361fb9fbdc6f2",
            "cc8ed9eefa334a94a8dafb86fcbe8cdf"
          ]
        },
        "id": "d5xfsPHsYMF5",
        "outputId": "05e1f42c-c0dd-4aed-c949-865b598cf2d9"
      },
      "outputs": [
        {
          "data": {
            "application/vnd.jupyter.widget-view+json": {
              "model_id": "9d7283136d0445a29228c2bfc87db5d7",
              "version_major": 2,
              "version_minor": 0
            },
            "text/plain": [
              "Downloading readme: 0.00B [00:00, ?B/s]"
            ]
          },
          "metadata": {},
          "output_type": "display_data"
        },
        {
          "data": {
            "application/vnd.jupyter.widget-view+json": {
              "model_id": "782b5a9345184288b240309fbc3dc1fb",
              "version_major": 2,
              "version_minor": 0
            },
            "text/plain": [
              "Downloading data:   0%|          | 0.00/9.26M [00:00<?, ?B/s]"
            ]
          },
          "metadata": {},
          "output_type": "display_data"
        },
        {
          "data": {
            "application/vnd.jupyter.widget-view+json": {
              "model_id": "ab522ae4837543eeb6965092a6751cd4",
              "version_major": 2,
              "version_minor": 0
            },
            "text/plain": [
              "Downloading data:   0%|          | 0.00/504k [00:00<?, ?B/s]"
            ]
          },
          "metadata": {},
          "output_type": "display_data"
        },
        {
          "data": {
            "application/vnd.jupyter.widget-view+json": {
              "model_id": "c0cbfb9f3a194a9286d3a8292be2e20a",
              "version_major": 2,
              "version_minor": 0
            },
            "text/plain": [
              "Downloading data:   0%|          | 0.00/522k [00:00<?, ?B/s]"
            ]
          },
          "metadata": {},
          "output_type": "display_data"
        },
        {
          "data": {
            "application/vnd.jupyter.widget-view+json": {
              "model_id": "2cb9eb369933465ab3d1678a63fe35e4",
              "version_major": 2,
              "version_minor": 0
            },
            "text/plain": [
              "Generating train split: 0 examples [00:00, ? examples/s]"
            ]
          },
          "metadata": {},
          "output_type": "display_data"
        },
        {
          "name": "stderr",
          "output_type": "stream",
          "text": [
            "/usr/local/lib/python3.11/dist-packages/datasets/download/streaming_download_manager.py:784: FutureWarning: The 'verbose' keyword in pd.read_csv is deprecated and will be removed in a future version.\n",
            "  return pd.read_csv(xopen(filepath_or_buffer, \"rb\", download_config=download_config), **kwargs)\n"
          ]
        },
        {
          "data": {
            "application/vnd.jupyter.widget-view+json": {
              "model_id": "532d9fad8a2d4716a30b3bbcb79f51e9",
              "version_major": 2,
              "version_minor": 0
            },
            "text/plain": [
              "Generating validation split: 0 examples [00:00, ? examples/s]"
            ]
          },
          "metadata": {},
          "output_type": "display_data"
        },
        {
          "name": "stderr",
          "output_type": "stream",
          "text": [
            "/usr/local/lib/python3.11/dist-packages/datasets/download/streaming_download_manager.py:784: FutureWarning: The 'verbose' keyword in pd.read_csv is deprecated and will be removed in a future version.\n",
            "  return pd.read_csv(xopen(filepath_or_buffer, \"rb\", download_config=download_config), **kwargs)\n"
          ]
        },
        {
          "data": {
            "application/vnd.jupyter.widget-view+json": {
              "model_id": "a8f84e81c1854de29e2f6a3705f2957b",
              "version_major": 2,
              "version_minor": 0
            },
            "text/plain": [
              "Generating test split: 0 examples [00:00, ? examples/s]"
            ]
          },
          "metadata": {},
          "output_type": "display_data"
        },
        {
          "name": "stderr",
          "output_type": "stream",
          "text": [
            "/usr/local/lib/python3.11/dist-packages/datasets/download/streaming_download_manager.py:784: FutureWarning: The 'verbose' keyword in pd.read_csv is deprecated and will be removed in a future version.\n",
            "  return pd.read_csv(xopen(filepath_or_buffer, \"rb\", download_config=download_config), **kwargs)\n"
          ]
        }
      ],
      "source": [
        "ds = load_dataset(\"knkarthick/samsum\")"
      ]
    },
    {
      "cell_type": "code",
      "execution_count": 11,
      "metadata": {
        "id": "qIwN-AXEcW-Z"
      },
      "outputs": [],
      "source": [
        "train_data, val_data, test_data = ds['train'], ds['validation'], ds['test']\n",
        "ds = None"
      ]
    },
    {
      "cell_type": "code",
      "execution_count": 12,
      "metadata": {
        "colab": {
          "base_uri": "https://localhost:8080/"
        },
        "id": "G1ebLA_Nc23b",
        "outputId": "957a5edc-bce3-4bb5-a220-316ccac3b4ef"
      },
      "outputs": [
        {
          "data": {
            "text/plain": [
              "((14732, 3), (818, 3), (819, 3))"
            ]
          },
          "execution_count": 12,
          "metadata": {},
          "output_type": "execute_result"
        }
      ],
      "source": [
        "train_data.shape, val_data.shape, test_data.shape"
      ]
    },
    {
      "cell_type": "code",
      "execution_count": 13,
      "metadata": {
        "colab": {
          "base_uri": "https://localhost:8080/"
        },
        "id": "G0_SRkVJekeE",
        "outputId": "eb4f6da7-5514-4bd3-ec51-99574f2368b2"
      },
      "outputs": [
        {
          "data": {
            "text/plain": [
              "{'id': '13818513',\n",
              " 'dialogue': \"Amanda: I baked  cookies. Do you want some?\\nJerry: Sure!\\nAmanda: I'll bring you tomorrow :-)\",\n",
              " 'summary': 'Amanda baked cookies and will bring Jerry some tomorrow.'}"
            ]
          },
          "execution_count": 13,
          "metadata": {},
          "output_type": "execute_result"
        }
      ],
      "source": [
        "train_data[0]"
      ]
    },
    {
      "cell_type": "markdown",
      "metadata": {
        "id": "eLcvNV6mNJAU"
      },
      "source": [
        "# LoRA Fine Tuning"
      ]
    },
    {
      "cell_type": "code",
      "execution_count": null,
      "metadata": {
        "id": "XJxYAr7cY1Ky"
      },
      "outputs": [],
      "source": [
        "lora_config = LoraConfig(\n",
        "    r=8,\n",
        "    lora_alpha=16,\n",
        "    target_modules=[\"q\", \"v\"],\n",
        "    lora_dropout=0.1,\n",
        "    bias=\"none\",\n",
        "    task_type=TaskType.SEQ_2_SEQ_LM\n",
        ")\n",
        "# lora_model.unload()\n",
        "lora_model = get_peft_model(model, lora_config)"
      ]
    },
    {
      "cell_type": "code",
      "execution_count": null,
      "metadata": {
        "id": "YSLPfU2rSAIU"
      },
      "outputs": [],
      "source": [
        "def print_number_of_trainable_model_parameters(model):\n",
        "    trainable_model_params = 0\n",
        "    all_model_params = 0\n",
        "    for _, param in model.named_parameters():\n",
        "        all_model_params += param.numel()\n",
        "        if param.requires_grad:\n",
        "            trainable_model_params += param.numel()\n",
        "    return f\"trainable model parameters: {trainable_model_params}\\nall model parameters: {all_model_params}\\npercentage of trainable model parameters: {100 * trainable_model_params / all_model_params:.2f}%\"\n"
      ]
    },
    {
      "cell_type": "code",
      "execution_count": null,
      "metadata": {
        "colab": {
          "base_uri": "https://localhost:8080/"
        },
        "id": "Rb6HyzfuSBCQ",
        "outputId": "f230b175-12d4-46b7-fa76-4ffcccfafc86"
      },
      "outputs": [
        {
          "name": "stdout",
          "output_type": "stream",
          "text": [
            "trainable model parameters: 884736\n",
            "all model parameters: 248462592\n",
            "percentage of trainable model parameters: 0.36%\n"
          ]
        }
      ],
      "source": [
        "print(print_number_of_trainable_model_parameters(lora_model))"
      ]
    },
    {
      "cell_type": "code",
      "execution_count": null,
      "metadata": {
        "id": "3ft4yr3Dc0kj"
      },
      "outputs": [],
      "source": [
        "train_small = train_data.shuffle(seed=42).select(range(10))\n",
        "val_small = val_data.shuffle(seed=42).select(range(2))"
      ]
    },
    {
      "cell_type": "code",
      "execution_count": null,
      "metadata": {
        "colab": {
          "base_uri": "https://localhost:8080/",
          "height": 81,
          "referenced_widgets": [
            "bfbd18ce8d5b4fefb3b6dce067c617c5",
            "b2765e25da954087a23b181a1c6b83c5",
            "5cb2d677c7494b11b70746d6da0e8cd9",
            "4b00aa7fbb6145a18857f74415b671d9",
            "191cc740ee014014aab3320493ba6bcb",
            "8dcd27751cce46af862a6556fb0fcd8d",
            "1a321420d946421b88e3d652504609ab",
            "f0ea0ed20d824968bb4cc487dee55270",
            "f7426e39bf3142f4abbc44e81bdef214",
            "f5ba3958bf31460bb5d4311dd80135cf",
            "0aba5b667c8147039c3640724b24aa42",
            "7f1ed049838744b29e12d7d4f6647134",
            "f4eada13656b4412bc0cd0a9b6e92c52",
            "08c4a9f7aeb14d79afa78593dc6d9cb5",
            "45976bf8f05e476ea42c711a6bf844d6",
            "7638e13d00594ef591b6da9d62cd5b8a",
            "3d9d5f3969f846a8a29d1e581ffd467e",
            "327b01e6eacf4547b7b34fd41dc59d46",
            "731bc9efd2e04309a76159d060c4565a",
            "ce86510bec2d4dc5840659f5d12f291e",
            "a7d56eef8ded4a12ba6fbb0c7b4104ee",
            "c6e17cfc4cd243dca56f3692dd62fe8f"
          ]
        },
        "id": "WjKmZnTwOi1q",
        "outputId": "dde73098-12ee-4fdd-b3df-9c0ae306a108"
      },
      "outputs": [
        {
          "data": {
            "application/vnd.jupyter.widget-view+json": {
              "model_id": "bfbd18ce8d5b4fefb3b6dce067c617c5",
              "version_major": 2,
              "version_minor": 0
            },
            "text/plain": [
              "Map:   0%|          | 0/14732 [00:00<?, ? examples/s]"
            ]
          },
          "metadata": {},
          "output_type": "display_data"
        },
        {
          "data": {
            "application/vnd.jupyter.widget-view+json": {
              "model_id": "7f1ed049838744b29e12d7d4f6647134",
              "version_major": 2,
              "version_minor": 0
            },
            "text/plain": [
              "Map:   0%|          | 0/818 [00:00<?, ? examples/s]"
            ]
          },
          "metadata": {},
          "output_type": "display_data"
        }
      ],
      "source": [
        "# def tokenize_with_prompt(example):\n",
        "#     prompts = [\n",
        "#         f\"\"\"\n",
        "# summarize the below conversation\n",
        "\n",
        "# {dialogue}\n",
        "\n",
        "# summary:\n",
        "# \"\"\" for dialogue in example[\"dialogue\"]\n",
        "#     ]\n",
        "\n",
        "#     inputs = tokenizer(\n",
        "#         prompts,\n",
        "#         truncation=True,\n",
        "#         padding=\"max_length\",\n",
        "#         max_length=512,\n",
        "#         return_tensors=\"pt\"  # you wanted this\n",
        "#     )\n",
        "#     targets = tokenizer(\n",
        "#         example[\"summary\"],\n",
        "#         truncation=True,\n",
        "#         padding=\"max_length\",\n",
        "#         max_length=128,\n",
        "#         return_tensors=\"pt\"\n",
        "#     )\n",
        "\n",
        "#     input_ids = inputs[\"input_ids\"]\n",
        "#     attention_mask = inputs[\"attention_mask\"]\n",
        "#     labels = targets[\"input_ids\"]\n",
        "\n",
        "#     # Mask padding tokens in labels with -100\n",
        "#     labels[labels == tokenizer.pad_token_id] = -100\n",
        "\n",
        "#     return {\n",
        "#         \"input_ids\": input_ids,\n",
        "#         \"attention_mask\": attention_mask,\n",
        "#         \"labels\": labels\n",
        "#     }\n",
        "\n",
        "def tokenize_with_prompt(example):\n",
        "    prompts = [\n",
        "        f\"\"\"\n",
        "summarize the below conversation\n",
        "\n",
        "{dialogue}\n",
        "\n",
        "summary:\n",
        "\"\"\" for dialogue in example[\"dialogue\"]\n",
        "    ]\n",
        "\n",
        "    # Tokenize inputs\n",
        "    model_inputs = tokenizer(\n",
        "        prompts,\n",
        "        padding=\"max_length\",\n",
        "        truncation=True,\n",
        "        max_length=512\n",
        "    )\n",
        "\n",
        "    # Tokenize labels\n",
        "    labels = tokenizer(\n",
        "        example[\"summary\"],\n",
        "        padding=\"max_length\",\n",
        "        truncation=True,\n",
        "        max_length=128\n",
        "    )\n",
        "    labels_input_ids = []\n",
        "    for label_seq in labels[\"input_ids\"]:\n",
        "        label_seq = [token_id if token_id != tokenizer.pad_token_id else -100 for token_id in label_seq]\n",
        "        labels_input_ids.append(label_seq)\n",
        "\n",
        "    # Return all necessary components\n",
        "    example['input_ids'] = model_inputs['input_ids']\n",
        "    example['attention_mask'] = model_inputs['attention_mask']\n",
        "    example['labels'] = labels_input_ids\n",
        "\n",
        "    return example\n",
        "\n",
        "\n",
        "\n",
        "tokenized_train = train_data.map(tokenize_with_prompt, batched=True)\n",
        "tokenized_val = val_data.map(tokenize_with_prompt, batched=True)"
      ]
    },
    {
      "cell_type": "code",
      "execution_count": null,
      "metadata": {
        "colab": {
          "base_uri": "https://localhost:8080/"
        },
        "id": "CjLLuAFPli6F",
        "outputId": "6dc2c685-5013-4686-9035-1e651e8a28c5"
      },
      "outputs": [
        {
          "data": {
            "text/plain": [
              "Dataset({\n",
              "    features: ['id', 'dialogue', 'summary', 'input_ids', 'attention_mask', 'labels'],\n",
              "    num_rows: 14732\n",
              "})"
            ]
          },
          "execution_count": 32,
          "metadata": {},
          "output_type": "execute_result"
        }
      ],
      "source": [
        "tokenized_train"
      ]
    },
    {
      "cell_type": "code",
      "execution_count": null,
      "metadata": {
        "id": "Lzt1osFWn7LL"
      },
      "outputs": [],
      "source": [
        "tokenized_train = tokenized_train.remove_columns(['id', 'dialogue', 'summary',])\n",
        "tokenized_val = tokenized_val.remove_columns(['id', 'dialogue', 'summary',])"
      ]
    },
    {
      "cell_type": "code",
      "execution_count": null,
      "metadata": {
        "colab": {
          "base_uri": "https://localhost:8080/"
        },
        "id": "UpMrDVhWrm30",
        "outputId": "1a0a932a-28a2-4ca0-f18e-c85cae941642"
      },
      "outputs": [
        {
          "data": {
            "text/plain": [
              "Dataset({\n",
              "    features: ['input_ids', 'attention_mask', 'labels'],\n",
              "    num_rows: 14732\n",
              "})"
            ]
          },
          "execution_count": 34,
          "metadata": {},
          "output_type": "execute_result"
        }
      ],
      "source": [
        "tokenized_train"
      ]
    },
    {
      "cell_type": "code",
      "execution_count": null,
      "metadata": {
        "colab": {
          "base_uri": "https://localhost:8080/"
        },
        "id": "bHAtpGcxr-2w",
        "outputId": "6333eb74-31fd-4823-af05-a1ecbdd40142"
      },
      "outputs": [
        {
          "name": "stdout",
          "output_type": "stream",
          "text": [
            "[21603, 8, 666, 3634, 21542, 10, 27, 13635, 5081, 5, 531, 25, 241, 128, 58, 16637, 10, 10625, 55, 21542, 10, 27, 31, 195, 830, 25, 5721, 3, 10, 18, 61, 9251, 10, 3, 1, 0, 0, 0, 0, 0, 0, 0, 0, 0, 0, 0, 0, 0, 0, 0, 0, 0, 0, 0, 0, 0, 0, 0, 0, 0, 0, 0, 0, 0, 0, 0, 0, 0, 0, 0, 0, 0, 0, 0, 0, 0, 0, 0, 0, 0, 0, 0, 0, 0, 0, 0, 0, 0, 0, 0, 0, 0, 0, 0, 0, 0, 0, 0, 0, 0, 0, 0, 0, 0, 0, 0, 0, 0, 0, 0, 0, 0, 0, 0, 0, 0, 0, 0, 0, 0, 0, 0, 0, 0, 0, 0, 0, 0, 0, 0, 0, 0, 0, 0, 0, 0, 0, 0, 0, 0, 0, 0, 0, 0, 0, 0, 0, 0, 0, 0, 0, 0, 0, 0, 0, 0, 0, 0, 0, 0, 0, 0, 0, 0, 0, 0, 0, 0, 0, 0, 0, 0, 0, 0, 0, 0, 0, 0, 0, 0, 0, 0, 0, 0, 0, 0, 0, 0, 0, 0, 0, 0, 0, 0, 0, 0, 0, 0, 0, 0, 0, 0, 0, 0, 0, 0, 0, 0, 0, 0, 0, 0, 0, 0, 0, 0, 0, 0, 0, 0, 0, 0, 0, 0, 0, 0, 0, 0, 0, 0, 0, 0, 0, 0, 0, 0, 0, 0, 0, 0, 0, 0, 0, 0, 0, 0, 0, 0, 0, 0, 0, 0, 0, 0, 0, 0, 0, 0, 0, 0, 0, 0, 0, 0, 0, 0, 0, 0, 0, 0, 0, 0, 0, 0, 0, 0, 0, 0, 0, 0, 0, 0, 0, 0, 0, 0, 0, 0, 0, 0, 0, 0, 0, 0, 0, 0, 0, 0, 0, 0, 0, 0, 0, 0, 0, 0, 0, 0, 0, 0, 0, 0, 0, 0, 0, 0, 0, 0, 0, 0, 0, 0, 0, 0, 0, 0, 0, 0, 0, 0, 0, 0, 0, 0, 0, 0, 0, 0, 0, 0, 0, 0, 0, 0, 0, 0, 0, 0, 0, 0, 0, 0, 0, 0, 0, 0, 0, 0, 0, 0, 0, 0, 0, 0, 0, 0, 0, 0, 0, 0, 0, 0, 0, 0, 0, 0, 0, 0, 0, 0, 0, 0, 0, 0, 0, 0, 0, 0, 0, 0, 0, 0, 0, 0, 0, 0, 0, 0, 0, 0, 0, 0, 0, 0, 0, 0, 0, 0, 0, 0, 0, 0, 0, 0, 0, 0, 0, 0, 0, 0, 0, 0, 0, 0, 0, 0, 0, 0, 0, 0, 0, 0, 0, 0, 0, 0, 0, 0, 0, 0, 0, 0, 0, 0, 0, 0, 0, 0, 0, 0, 0, 0, 0, 0, 0, 0, 0, 0, 0, 0, 0, 0, 0, 0, 0, 0, 0, 0, 0, 0, 0, 0, 0, 0, 0, 0, 0, 0, 0, 0, 0, 0, 0, 0, 0, 0, 0, 0, 0, 0, 0, 0, 0, 0, 0, 0, 0, 0, 0, 0, 0, 0, 0, 0, 0, 0, 0, 0, 0, 0, 0, 0]\n"
          ]
        }
      ],
      "source": [
        "print(tokenized_train['input_ids'][0])"
      ]
    },
    {
      "cell_type": "code",
      "execution_count": null,
      "metadata": {
        "colab": {
          "base_uri": "https://localhost:8080/"
        },
        "id": "oRXOH7qgspit",
        "outputId": "f738a8c1-a658-48fd-dc64-14c28252a5d2"
      },
      "outputs": [
        {
          "name": "stdout",
          "output_type": "stream",
          "text": [
            "[21542, 13635, 5081, 11, 56, 830, 16637, 128, 5721, 5, 1, -100, -100, -100, -100, -100, -100, -100, -100, -100, -100, -100, -100, -100, -100, -100, -100, -100, -100, -100, -100, -100, -100, -100, -100, -100, -100, -100, -100, -100, -100, -100, -100, -100, -100, -100, -100, -100, -100, -100, -100, -100, -100, -100, -100, -100, -100, -100, -100, -100, -100, -100, -100, -100, -100, -100, -100, -100, -100, -100, -100, -100, -100, -100, -100, -100, -100, -100, -100, -100, -100, -100, -100, -100, -100, -100, -100, -100, -100, -100, -100, -100, -100, -100, -100, -100, -100, -100, -100, -100, -100, -100, -100, -100, -100, -100, -100, -100, -100, -100, -100, -100, -100, -100, -100, -100, -100, -100, -100, -100, -100, -100, -100, -100, -100, -100, -100, -100]\n"
          ]
        }
      ],
      "source": [
        "print(tokenized_train['labels'][0])"
      ]
    },
    {
      "cell_type": "code",
      "execution_count": 14,
      "metadata": {
        "id": "mbyOXswgQTWQ"
      },
      "outputs": [],
      "source": [
        "output_dir = \"/content/drive/MyDrive/python_projects/fine-tuning-LLMs/models/flan-t5-lora-samsum\"\n",
        "logging_dir = \"/content/drive/MyDrive/python_projects/fine-tuning-LLMs/logs/flan-t5-lora-samsum\"\n",
        "os.makedirs(output_dir, exist_ok=True)\n",
        "os.makedirs(logging_dir, exist_ok=True)"
      ]
    },
    {
      "cell_type": "code",
      "execution_count": null,
      "metadata": {
        "id": "tMekqgzsQfVB"
      },
      "outputs": [],
      "source": [
        "early_stop = EarlyStoppingCallback(\n",
        "    early_stopping_patience=2,  # Stop if no improvement for 2 evals\n",
        "    early_stopping_threshold=0.0001\n",
        ")"
      ]
    },
    {
      "cell_type": "code",
      "execution_count": null,
      "metadata": {
        "id": "INbawjNgRNDa"
      },
      "outputs": [],
      "source": [
        "lora_training_args = Seq2SeqTrainingArguments(\n",
        "    output_dir=output_dir,\n",
        "    per_device_train_batch_size=4,\n",
        "    per_device_eval_batch_size=4,\n",
        "    num_train_epochs=5,\n",
        "    learning_rate=5e-4,\n",
        "    eval_strategy=\"epoch\",\n",
        "    save_strategy=\"epoch\",\n",
        "    logging_dir=logging_dir,\n",
        "    logging_strategy=\"epoch\",\n",
        "    # predict_with_generate=True,\n",
        "    fp16=False,\n",
        "\n",
        "    report_to=\"none\",\n",
        "    save_total_limit=2,\n",
        "    load_best_model_at_end=True,\n",
        "    metric_for_best_model=\"eval_loss\",\n",
        "    greater_is_better=False,\n",
        ")\n",
        "\n"
      ]
    },
    {
      "cell_type": "code",
      "execution_count": null,
      "metadata": {
        "id": "9lA2GveAR44v"
      },
      "outputs": [],
      "source": [
        "data_collator = DataCollatorForSeq2Seq(tokenizer, model=lora_model, padding=True, return_tensors=\"pt\")"
      ]
    },
    {
      "cell_type": "code",
      "execution_count": null,
      "metadata": {
        "colab": {
          "base_uri": "https://localhost:8080/"
        },
        "id": "YFNhB7uASLUu",
        "outputId": "2e6d630e-ea55-4dc3-a7ea-b41f1cf7f0eb"
      },
      "outputs": [
        {
          "name": "stdout",
          "output_type": "stream",
          "text": [
            "latest_checkpoint: None\n"
          ]
        }
      ],
      "source": [
        "def get_latest_checkpoint(path):\n",
        "    if not os.path.isdir(path):\n",
        "        return None\n",
        "    checkpoints = [os.path.join(path, d) for d in os.listdir(path) if d.startswith(\"checkpoint-\")]\n",
        "    return max(checkpoints, key=os.path.getmtime) if checkpoints else None\n",
        "\n",
        "latest_checkpoint = get_latest_checkpoint(output_dir)\n",
        "print(f'latest_checkpoint: {latest_checkpoint}')"
      ]
    },
    {
      "cell_type": "code",
      "execution_count": null,
      "metadata": {
        "colab": {
          "base_uri": "https://localhost:8080/"
        },
        "id": "9pmz8E7zSXzD",
        "outputId": "6e672ed1-1f31-44ea-dc3f-e6a7758f6379"
      },
      "outputs": [
        {
          "name": "stderr",
          "output_type": "stream",
          "text": [
            "No label_names provided for model class `PeftModelForSeq2SeqLM`. Since `PeftModel` hides base models input arguments, if label_names is not given, label_names can't be set automatically within `Trainer`. Note that empty label_names list will be used instead.\n"
          ]
        }
      ],
      "source": [
        "lora_trainer = Seq2SeqTrainer(\n",
        "    model=lora_model,\n",
        "    args=lora_training_args,\n",
        "    train_dataset=tokenized_train,\n",
        "    eval_dataset=tokenized_val,\n",
        "    processing_class=tokenizer,\n",
        "    data_collator=data_collator,\n",
        "    callbacks=[early_stop]\n",
        ")"
      ]
    },
    {
      "cell_type": "code",
      "execution_count": null,
      "metadata": {
        "colab": {
          "base_uri": "https://localhost:8080/",
          "height": 267
        },
        "id": "VdbDDNxzSeMK",
        "outputId": "ae0bae84-7a0d-49e2-f1d4-493dcb3c5169"
      },
      "outputs": [
        {
          "data": {
            "text/html": [
              "\n",
              "    <div>\n",
              "      \n",
              "      <progress value='18415' max='18415' style='width:300px; height:20px; vertical-align: middle;'></progress>\n",
              "      [18415/18415 2:47:09, Epoch 5/5]\n",
              "    </div>\n",
              "    <table border=\"1\" class=\"dataframe\">\n",
              "  <thead>\n",
              " <tr style=\"text-align: left;\">\n",
              "      <th>Epoch</th>\n",
              "      <th>Training Loss</th>\n",
              "      <th>Validation Loss</th>\n",
              "    </tr>\n",
              "  </thead>\n",
              "  <tbody>\n",
              "    <tr>\n",
              "      <td>1</td>\n",
              "      <td>1.463100</td>\n",
              "      <td>1.396177</td>\n",
              "    </tr>\n",
              "    <tr>\n",
              "      <td>2</td>\n",
              "      <td>1.430800</td>\n",
              "      <td>1.391247</td>\n",
              "    </tr>\n",
              "    <tr>\n",
              "      <td>3</td>\n",
              "      <td>1.403500</td>\n",
              "      <td>1.382492</td>\n",
              "    </tr>\n",
              "    <tr>\n",
              "      <td>4</td>\n",
              "      <td>1.382200</td>\n",
              "      <td>1.382321</td>\n",
              "    </tr>\n",
              "    <tr>\n",
              "      <td>5</td>\n",
              "      <td>1.367400</td>\n",
              "      <td>1.379952</td>\n",
              "    </tr>\n",
              "  </tbody>\n",
              "</table><p>"
            ],
            "text/plain": [
              "<IPython.core.display.HTML object>"
            ]
          },
          "metadata": {},
          "output_type": "display_data"
        },
        {
          "data": {
            "text/plain": [
              "TrainOutput(global_step=18415, training_loss=1.4094124397569916, metrics={'train_runtime': 10029.9533, 'train_samples_per_second': 7.344, 'train_steps_per_second': 1.836, 'total_flos': 5.06394277576704e+16, 'train_loss': 1.4094124397569916, 'epoch': 5.0})"
            ]
          },
          "execution_count": 43,
          "metadata": {},
          "output_type": "execute_result"
        }
      ],
      "source": [
        "lora_trainer.train(resume_from_checkpoint=latest_checkpoint)"
      ]
    },
    {
      "cell_type": "code",
      "execution_count": null,
      "metadata": {
        "colab": {
          "base_uri": "https://localhost:8080/"
        },
        "id": "zVxAlf15bqYI",
        "outputId": "9e0a46b1-9210-4147-b42d-508479b38bcf"
      },
      "outputs": [
        {
          "data": {
            "text/plain": [
              "('/content/drive/MyDrive/python_projects/fine-tuning-LLMs/models/flan-t5-lora-samsum/tokenizer_config.json',\n",
              " '/content/drive/MyDrive/python_projects/fine-tuning-LLMs/models/flan-t5-lora-samsum/special_tokens_map.json',\n",
              " '/content/drive/MyDrive/python_projects/fine-tuning-LLMs/models/flan-t5-lora-samsum/spiece.model',\n",
              " '/content/drive/MyDrive/python_projects/fine-tuning-LLMs/models/flan-t5-lora-samsum/added_tokens.json',\n",
              " '/content/drive/MyDrive/python_projects/fine-tuning-LLMs/models/flan-t5-lora-samsum/tokenizer.json')"
            ]
          },
          "execution_count": 44,
          "metadata": {},
          "output_type": "execute_result"
        }
      ],
      "source": [
        "lora_trainer.model.save_pretrained(output_dir)\n",
        "tokenizer.save_pretrained(output_dir)"
      ]
    },
    {
      "cell_type": "code",
      "execution_count": 16,
      "metadata": {
        "colab": {
          "base_uri": "https://localhost:8080/"
        },
        "id": "VFNxx_QA5Dgq",
        "outputId": "9ffc88a8-f371-42c9-9093-df6cfa1f84a0"
      },
      "outputs": [
        {
          "name": "stderr",
          "output_type": "stream",
          "text": [
            "/usr/local/lib/python3.11/dist-packages/peft/tuners/tuners_utils.py:190: UserWarning: Already found a `peft_config` attribute in the model. This will lead to having multiple adapters in the model. Make sure to know what you are doing!\n",
            "  warnings.warn(\n"
          ]
        }
      ],
      "source": [
        "tokenizer = AutoTokenizer.from_pretrained(output_dir)\n",
        "lora_model = PeftModel.from_pretrained(model, output_dir, is_trainable=False)"
      ]
    },
    {
      "cell_type": "code",
      "execution_count": 17,
      "metadata": {
        "colab": {
          "base_uri": "https://localhost:8080/"
        },
        "id": "p-Yowc_B6Isy",
        "outputId": "99c9e344-0363-48a3-e246-5d24df024c99"
      },
      "outputs": [
        {
          "name": "stdout",
          "output_type": "stream",
          "text": [
            "##################################################\n",
            "--------------------------------------------------\n",
            "Example 1\n",
            "--------------------------------------------------\n",
            "prompt:\n",
            "\n",
            "summarize the below conversation\n",
            "\n",
            "Wanda: Let's make a party!\n",
            "Gina: Why?\n",
            "Wanda: beacuse. I want some fun!\n",
            "Gina: ok, what do u need?\n",
            "Wanda: 1st I need too make a list\n",
            "Gina: noted and then?\n",
            "Wanda: well, could u take yours father car and go do groceries with me?\n",
            "Gina: don't know if he'll agree\n",
            "Wanda: I know, but u can ask :)\n",
            "Gina: I'll try but theres no promisess\n",
            "Wanda: I know, u r the best!\n",
            "Gina: When u wanna go\n",
            "Wanda: Friday?\n",
            "Gina: ok, I'll ask\n",
            "\n",
            "summary:\n",
            "  \n",
            "--------------------------------------------------\n",
            "summary:\n",
            "Wanda wants to throw a party. She asks Gina to borrow her father's car and go do groceries together. They set the date for Friday. \n",
            "--------------------------------------------------\n",
            "LoRA output:\n",
            "Wanda and Gina are going to make a party on Friday.\n",
            "--------------------------------------------------\n",
            "##################################################\n",
            "\n",
            "##################################################\n",
            "--------------------------------------------------\n",
            "Example 2\n",
            "--------------------------------------------------\n",
            "prompt:\n",
            "\n",
            "summarize the below conversation\n",
            "\n",
            "Sebastian: It's been already a year since we moved here.\n",
            "Sebastian: This is totally the best time of my life.\n",
            "Kevin: Really? \n",
            "Sebastian: Yeah! Totally maaan.\n",
            "Sebastian: During this 1 year I learned more than ever. \n",
            "Sebastian: I learned how to be resourceful, I'm learning responsibility, and I literally have the power to make my dreams come true.\n",
            "Kevin: It's great to hear that.\n",
            "Kevin: It's great that you are satisfied with your decisions.\n",
            "Kevin: And above all it's great to see that you have someone you love by your side :)\n",
            "Sebastian: Exactly!\n",
            "Sebastian: That's another part of my life that is going great.\n",
            "Kevin: I wish I had such a person by my side.\n",
            "Sebastian: Don't worry about it.\n",
            "Sebastian: I have a feeling this day will come shortly.\n",
            "Kevin: Haha. I don' think so, but thanks.\n",
            "Sebastian: This one year proved to me that when you want something really badly, you can achieve it.\n",
            "Kevin: I want to win lottery and I never did :D\n",
            "Sebastian: If you devoted your life to analyze all of the winning numbers, and with your math skills you could win.\n",
            "Kevin: Devote myself and million dollars for lottery tickets.\n",
            "Sebastian: Something like that xD\n",
            "Kevin: I'm happy for you man.\n",
            "Kevin: I really am\n",
            "Sebastian: Thanks. It means a lot my friend :)\n",
            "\n",
            "summary:\n",
            "  \n",
            "--------------------------------------------------\n",
            "summary:\n",
            "Sebastian is very happy with his life, and shares this happiness with Kevin.\n",
            "--------------------------------------------------\n",
            "LoRA output:\n",
            "Sebastian has been living here for a year. He has learned more than he ever had. He has a friend who is Sebastian's love. Kevin wants to win the lottery.\n",
            "--------------------------------------------------\n",
            "##################################################\n",
            "\n",
            "##################################################\n",
            "--------------------------------------------------\n",
            "Example 3\n",
            "--------------------------------------------------\n",
            "prompt:\n",
            "\n",
            "summarize the below conversation\n",
            "\n",
            "Lee: I'm scared and confused. The digital wizard client manager who normally wears only hoodies, just put on a proper dress shirt and a suit jacket.\n",
            "Lee: The Russians are coming!\n",
            "Andy: Maybe he has a date after work?\n",
            "Andy: Possibly with a Russian soldier ;)\n",
            "Lee: If I'm not mistaken, he has some sort of a client related presentation.\n",
            "Lee: But it's still weird.\n",
            "Lee: I've been here for almost 5 months and this is the first time I see something like this. :D\n",
            "Andy: Take pictures and make fun of him in a couple of weeks :P\n",
            "Lee: I should.\n",
            "Lee: Quick picture and post to FB.\n",
            "Andy: The corporate one!\n",
            "Lee: Yeah!\n",
            "Lee: But on a more interesting topic, I went and pre-purchased RoS CE in a temporal break of my brains.\n",
            "Andy: Digital or the \"real\" one?\n",
            "Lee: Digital.\n",
            "Andy: Did it unlock any features already?\n",
            "Lee: Pet for WoW, some decals for SC2.\n",
            "Lee: Pre-ordering opened up a hero in a game not yet released. :D\n",
            "Andy: So basically you got some goodies that you would get anyway by buying it closer to launch date? :P\n",
            "Lee: Yeah, preorder...\n",
            "Lee: Wait, wait! Wings! Wings and a Demon Hunter for Heroes of the Storm.\n",
            "Lee: Although wings not applied yet and I prefer the look of the wings from the original CE.\n",
            "Lee: <file_other>\n",
            "Andy: \"or anyone who redeems a Reaper of Souls retail game key on or before March 31\" - so basically what I said :P\n",
            "Lee: Well yeah but I just took a quick bullet when I still had some money on my account.\n",
            "\n",
            "summary:\n",
            "  \n",
            "--------------------------------------------------\n",
            "summary:\n",
            "The client manager suited up. He has a presentation for a client. Lee pre-ordered the digital RoS CE and got extra in-game content: Wings and a Demon Hunter for Heroes of the Storm.\n",
            "--------------------------------------------------\n",
            "LoRA output:\n",
            "Lee is scared and confused about the Russians coming. He pre-purchased RoS CE. He got Wings and Demon Hunter for Heroes of the Storm.\n",
            "--------------------------------------------------\n",
            "##################################################\n",
            "\n"
          ]
        }
      ],
      "source": [
        "sample_indices = [10, 40, 765]\n",
        "for i, sample_index in enumerate(sample_indices):\n",
        "  dialogue = test_data[sample_index]['dialogue']\n",
        "  summary = test_data[sample_index]['summary']\n",
        "  prompt = f'''\n",
        "summarize the below conversation\n",
        "\n",
        "{dialogue}\n",
        "\n",
        "summary:\n",
        "  '''\n",
        "  # Input constructed prompt instead of the dialogue.\n",
        "  inputs = tokenizer(prompt, return_tensors='pt')\n",
        "  output = tokenizer.decode(\n",
        "      lora_model.generate(\n",
        "          input_ids = inputs[\"input_ids\"],\n",
        "          generation_config=GenerationConfig(max_new_tokens=50)\n",
        "          # max_new_tokens=50,\n",
        "      )[0],\n",
        "      skip_special_tokens=True\n",
        "  )\n",
        "  print('#'*50)\n",
        "  print('-'*50)\n",
        "  print(f'Example {i+1}')\n",
        "  print('-'*50)\n",
        "  print(f'prompt:\\n{prompt}')\n",
        "  print('-'*50)\n",
        "  print(f'summary:\\n{summary}')\n",
        "  print('-'*50)\n",
        "  print(f'LoRA output:\\n{output}')\n",
        "  print('-'*50)\n",
        "  print('#'*50)\n",
        "  print()"
      ]
    },
    {
      "cell_type": "code",
      "execution_count": 18,
      "metadata": {
        "id": "jpIQ-vKz6jp4"
      },
      "outputs": [],
      "source": [
        "with open('/content/drive/MyDrive/python_projects/fine-tuning-LLMs/outputs/test_data_json.json', 'r') as f:\n",
        "  test_data_json = json.load(f)"
      ]
    },
    {
      "cell_type": "code",
      "execution_count": 19,
      "metadata": {
        "colab": {
          "base_uri": "https://localhost:8080/"
        },
        "id": "EQbaN7QaIXv-",
        "outputId": "53e1c6f1-525b-49e6-817e-c0b5c3aa52c9"
      },
      "outputs": [
        {
          "data": {
            "text/plain": [
              "dict_keys(['dialogue', 'summary', 'base_model', 'full_fine_tuned_model'])"
            ]
          },
          "execution_count": 19,
          "metadata": {},
          "output_type": "execute_result"
        }
      ],
      "source": [
        "test_data_json.keys()"
      ]
    },
    {
      "cell_type": "code",
      "execution_count": 22,
      "metadata": {
        "colab": {
          "base_uri": "https://localhost:8080/"
        },
        "id": "v0HBgSZ5IaoZ",
        "outputId": "30871443-21f0-4638-cf72-b229a23d8e94"
      },
      "outputs": [
        {
          "name": "stderr",
          "output_type": "stream",
          "text": [
            "18it [01:12,  3.63s/it]Token indices sequence length is longer than the specified maximum sequence length for this model (527 > 512). Running this sequence through the model will result in indexing errors\n",
            "819it [37:04,  2.72s/it]\n"
          ]
        }
      ],
      "source": [
        "peft_lora_fine_tuned_model_outputs = []\n",
        "\n",
        "for dialogue, summary in tqdm(zip(test_data_json['dialogue'], test_data_json['summary'])):\n",
        "  prompt = f'''\n",
        "summarize the below conversation\n",
        "\n",
        "{dialogue}\n",
        "\n",
        "summary:\n",
        "  '''\n",
        "\n",
        "  inputs = tokenizer(prompt, return_tensors='pt')\n",
        "  output = tokenizer.decode(\n",
        "      lora_model.generate(\n",
        "          input_ids = inputs[\"input_ids\"],\n",
        "          generation_config=GenerationConfig(max_new_tokens=50),\n",
        "      )[0],\n",
        "      skip_special_tokens=True\n",
        "  )\n",
        "  peft_lora_fine_tuned_model_outputs.append(output)"
      ]
    },
    {
      "cell_type": "code",
      "execution_count": 23,
      "metadata": {
        "colab": {
          "base_uri": "https://localhost:8080/"
        },
        "id": "Hp6wKpIIIkqL",
        "outputId": "9654c2a1-b4ba-4dd5-a81c-22705099407f"
      },
      "outputs": [
        {
          "data": {
            "text/plain": [
              "dict_keys(['dialogue', 'summary', 'base_model', 'full_fine_tuned_model', 'peft_lora_fine_tuned_model'])"
            ]
          },
          "execution_count": 23,
          "metadata": {},
          "output_type": "execute_result"
        }
      ],
      "source": [
        "test_data_json['peft_lora_fine_tuned_model'] = peft_lora_fine_tuned_model_outputs\n",
        "\n",
        "test_data_json.keys()"
      ]
    },
    {
      "cell_type": "code",
      "execution_count": 24,
      "metadata": {
        "id": "eLQn5Ts-JYJ-"
      },
      "outputs": [],
      "source": [
        "with open('/content/drive/MyDrive/python_projects/fine-tuning-LLMs/outputs/test_data_json.json', 'w') as f:\n",
        "  json.dump(test_data_json, f, indent=4)"
      ]
    },
    {
      "cell_type": "code",
      "execution_count": 25,
      "metadata": {
        "id": "hwusPyE7Jdje"
      },
      "outputs": [],
      "source": [
        "with open('/content/drive/MyDrive/python_projects/fine-tuning-LLMs/outputs/test_data_json.json', 'r') as f:\n",
        "  test_data_json = json.load(f)"
      ]
    },
    {
      "cell_type": "code",
      "execution_count": 26,
      "metadata": {
        "colab": {
          "base_uri": "https://localhost:8080/",
          "height": 145,
          "referenced_widgets": [
            "40100f86d94b4d109f31be159714b1b9",
            "9eece75904ca433aa0e92c99e842fd7b",
            "b14e1046b8814abc8c5df808a207344b",
            "c0dc3961db6c40a28b67eb18b5c4a9ea",
            "5872033d3f7f4de2afe61c863ae30482",
            "18246eb409e040d6bff67b69d1d15e9a",
            "127b9d47795645109b3cfb41ed622045",
            "3a4b8daa983646ef896d91149ca7dcbe",
            "6c0c994696514150a05401a85eeb3080",
            "38c0d40426d54729aa6f98f13f67d0b3",
            "23f593264275432a9b8f39175cbbb5d7",
            "58e773ffe4b54b03b8603a9c4d7708ad",
            "48147356cdb34f6298c822e2d8917668",
            "e9613f58ee204b3da5b1d1e85ddd9815",
            "29dc04141b084b769646ac8e10d34ba3",
            "14c5454917724b8bb4de6806b49935d4",
            "d2736676c89e4c0599f4fda46912d63e",
            "bc66b48621ad42b78a1ac1b1ab949262",
            "b25e9f065df1425882849f5281f5a058",
            "ceed03e0f148494ea3931aeaa4b54d45",
            "02148dcce971456c9fc3325862051139",
            "e609d1f155f84327b11ca7ef88e106cb",
            "b1d872b89ff448498a5f934b5759e7c5",
            "31d7deb35fde4476a2e2c5f712091055",
            "bc1b13b0ed6d49a4904da1bf8cb6c379",
            "f0340ea5ae55420c82d8b3876eb165b1",
            "05c75262d5434965ada6b81b78e3310d",
            "5e8181c3e3bf4f9da221c52010ab3054",
            "89a5abc3a457477790ed27dca0c4e047",
            "67df27343ef640e1af477cb7bf70791c",
            "1e31634a1018491a8fbb598d582ef848",
            "b13829459eb2478a9428b80a6a827174",
            "e565c287c46c4e4b930946e01facdbf6",
            "657ba1045e9e47f981022dbe0f80b371",
            "7a9e75e6197241df800eed92f298747e",
            "271ecefa644741cfbd4a912c1638cf50",
            "2494d46d6ed94570a1e12497d5ed65d8",
            "6e22730a63204705a64cb91f02a96eab",
            "c55891f6c569452fb78c54203e01e538",
            "188781b3901f4276b704a9bf1c16fc1b",
            "50e48bb8b5314643bb699211e93d031b",
            "4d4205e70cc84d19af22fdeeb3ef90c1",
            "ff66ecb07055480e9faad134f939815f",
            "36d3ff0fa15d4caea0e4d11a2c066e7d"
          ]
        },
        "id": "taIqhh5TJdgE",
        "outputId": "87ea7258-0a4b-427f-89e9-272031e0eda5"
      },
      "outputs": [
        {
          "data": {
            "application/vnd.jupyter.widget-view+json": {
              "model_id": "40100f86d94b4d109f31be159714b1b9",
              "version_major": 2,
              "version_minor": 0
            },
            "text/plain": [
              "Downloading builder script: 0.00B [00:00, ?B/s]"
            ]
          },
          "metadata": {},
          "output_type": "display_data"
        },
        {
          "data": {
            "application/vnd.jupyter.widget-view+json": {
              "model_id": "58e773ffe4b54b03b8603a9c4d7708ad",
              "version_major": 2,
              "version_minor": 0
            },
            "text/plain": [
              "Downloading builder script: 0.00B [00:00, ?B/s]"
            ]
          },
          "metadata": {},
          "output_type": "display_data"
        },
        {
          "data": {
            "application/vnd.jupyter.widget-view+json": {
              "model_id": "b1d872b89ff448498a5f934b5759e7c5",
              "version_major": 2,
              "version_minor": 0
            },
            "text/plain": [
              "Downloading extra modules:   0%|          | 0.00/1.55k [00:00<?, ?B/s]"
            ]
          },
          "metadata": {},
          "output_type": "display_data"
        },
        {
          "data": {
            "application/vnd.jupyter.widget-view+json": {
              "model_id": "657ba1045e9e47f981022dbe0f80b371",
              "version_major": 2,
              "version_minor": 0
            },
            "text/plain": [
              "Downloading extra modules: 0.00B [00:00, ?B/s]"
            ]
          },
          "metadata": {},
          "output_type": "display_data"
        }
      ],
      "source": [
        "# Load metrics\n",
        "rouge = evaluate.load(\"rouge\")\n",
        "bleu = evaluate.load(\"bleu\")"
      ]
    },
    {
      "cell_type": "code",
      "execution_count": 27,
      "metadata": {
        "id": "TvuuewJoJddk"
      },
      "outputs": [],
      "source": [
        "rouge_result = rouge.compute(predictions=test_data_json['peft_lora_fine_tuned_model'], references=test_data_json['summary'])\n",
        "bleu_result = bleu.compute(predictions=test_data_json['peft_lora_fine_tuned_model'], references=test_data_json['summary'])"
      ]
    },
    {
      "cell_type": "code",
      "execution_count": 28,
      "metadata": {
        "colab": {
          "base_uri": "https://localhost:8080/"
        },
        "id": "Z3ZKrV4DJdbt",
        "outputId": "ff9a4d19-7713-44f1-b818-8b7b63899d84"
      },
      "outputs": [
        {
          "data": {
            "text/plain": [
              "({'rouge1': np.float64(0.48778378783340404),\n",
              "  'rouge2': np.float64(0.24355721558756227),\n",
              "  'rougeL': np.float64(0.40428437518002935),\n",
              "  'rougeLsum': np.float64(0.40412053704376966)},\n",
              " {'bleu': 0.18124521947077193,\n",
              "  'precisions': [0.5116085248243839,\n",
              "   0.24651104574754365,\n",
              "   0.14485488126649076,\n",
              "   0.08820863259186947],\n",
              "  'brevity_penalty': 0.9046112100291052,\n",
              "  'length_ratio': 0.908884319878801,\n",
              "  'translation_length': 16798,\n",
              "  'reference_length': 18482})"
            ]
          },
          "execution_count": 28,
          "metadata": {},
          "output_type": "execute_result"
        }
      ],
      "source": [
        "rouge_result, bleu_result"
      ]
    },
    {
      "cell_type": "code",
      "execution_count": null,
      "metadata": {
        "id": "PDnoS7dOJdVZ"
      },
      "outputs": [],
      "source": []
    }
  ],
  "metadata": {
    "colab": {
      "generative_ai_disabled": true,
      "provenance": []
    },
    "kernelspec": {
      "display_name": "Python 3 (ipykernel)",
      "language": "python",
      "name": "python3"
    }
  },
  "nbformat": 4,
  "nbformat_minor": 0
}
